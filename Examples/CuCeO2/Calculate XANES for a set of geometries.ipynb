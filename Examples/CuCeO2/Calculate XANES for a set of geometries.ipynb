{
 "cells": [
  {
   "cell_type": "markdown",
   "metadata": {},
   "source": [
    "# Importing experiment data, molecula structure and geometry parameters"
   ]
  },
  {
   "cell_type": "code",
   "execution_count": null,
   "metadata": {},
   "outputs": [],
   "source": [
    "%run ../lib/pyFitIt.py\n",
    "\n",
    "exp = LoadExperiment('../data/known/Feterpy')"
   ]
  },
  {
   "cell_type": "markdown",
   "metadata": {
    "collapsed": true
   },
   "source": [
    "# Check molecula constructor"
   ]
  },
  {
   "cell_type": "code",
   "execution_count": null,
   "metadata": {},
   "outputs": [],
   "source": [
    "mol = exp.moleculaConstructor({'nearSideRingsShift':0.2, 'nearCentralRingShift':0, 'remoteSideRingsShiftAdd':0, \n",
    "                               'remoteCentralRingShift':0, 'nearSideRingsTurn':0, 'remoteSideRingsTurn':10})\n",
    "mol.export_xyz('check.xyz')"
   ]
  },
  {
   "cell_type": "markdown",
   "metadata": {},
   "source": [
    "# Generate 200 input files for XANES calculation in 'sample_fdmnes' folder"
   ]
  },
  {
   "cell_type": "code",
   "execution_count": null,
   "metadata": {},
   "outputs": [],
   "source": [
    "generateInputFiles(exp.geometryParamRanges, exp.moleculaConstructor, 10, method='random', spectralProgram='fdmnes',\n",
    "                   spectrCalcParams = {'energyRange':exp.fdmnesEnergyRange, 'radius':5, 'Green':True}, folder='sample_fdmnes')"
   ]
  },
  {
   "cell_type": "markdown",
   "metadata": {},
   "source": [
    "# Generate 200 input files for EXAFS calculation in 'sample_feff' folder"
   ]
  },
  {
   "cell_type": "code",
   "execution_count": null,
   "metadata": {},
   "outputs": [],
   "source": [
    "generateInputFiles(exp.geometryParamRanges, exp.moleculaConstructor, 200, method='random', spectralProgram='feff',\n",
    "                   spectrCalcParams = {'RMAX':5}, folder='sample_feff')"
   ]
  },
  {
   "cell_type": "markdown",
   "metadata": {},
   "source": [
    "# Start xanes calculation on local computer"
   ]
  },
  {
   "cell_type": "code",
   "execution_count": null,
   "metadata": {},
   "outputs": [],
   "source": [
    "calcXanes(spectralProgram='fdmnes', runType='local', nProcs=1, memory=5000, taskInQueueCount=10, folder='sample', recalculateErrorsAttemptCount = 2)"
   ]
  },
  {
   "cell_type": "markdown",
   "metadata": {},
   "source": [
    "# Collect results into two files: params.txt and xanes.txt"
   ]
  },
  {
   "cell_type": "code",
   "execution_count": null,
   "metadata": {},
   "outputs": [],
   "source": [
    "collectResults(folder='sample', outputFolder='.')"
   ]
  },
  {
   "cell_type": "code",
   "execution_count": null,
   "metadata": {},
   "outputs": [],
   "source": []
  }
 ],
 "metadata": {
  "kernelspec": {
   "display_name": "Python 3",
   "language": "python",
   "name": "python3"
  },
  "language_info": {
   "codemirror_mode": {
    "name": "ipython",
    "version": 3
   },
   "file_extension": ".py",
   "mimetype": "text/x-python",
   "name": "python",
   "nbconvert_exporter": "python",
   "pygments_lexer": "ipython3",
   "version": "3.6.5"
  }
 },
 "nbformat": 4,
 "nbformat_minor": 2
}
