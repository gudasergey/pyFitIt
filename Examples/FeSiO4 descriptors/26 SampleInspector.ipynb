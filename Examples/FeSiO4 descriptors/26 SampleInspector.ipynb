{
 "cells": [
  {
   "cell_type": "code",
   "execution_count": null,
   "metadata": {},
   "outputs": [],
   "source": [
    "%matplotlib notebook\n",
    "from pyfitit import *\n",
    "initPyfitit()"
   ]
  },
  {
   "cell_type": "code",
   "execution_count": null,
   "metadata": {
    "scrolled": true
   },
   "outputs": [],
   "source": [
    "sample = readSample('generated/sampleWithDescriptors')\n",
    "sample.limit([7100, 7200])\n",
    "data = sample.params\n",
    "spectra = sample.spectra\n",
    "energy = sample.energy"
   ]
  },
  {
   "cell_type": "code",
   "execution_count": null,
   "metadata": {},
   "outputs": [],
   "source": [
    "fig = plotSample(energy, spectra, colorParam=data['pca3'], sortByColors=False)"
   ]
  },
  {
   "cell_type": "code",
   "execution_count": null,
   "metadata": {},
   "outputs": [],
   "source": [
    "def customProcessor(spectrum, i):\n",
    "    result = {'min':data.loc[i,['min_e', 'min_i']].tolist(),\n",
    "              'max':data.loc[i,['max_e', 'max_i']].tolist()}\n",
    "    return result\n",
    "    \n",
    "def customPlotter(ax, data):\n",
    "    ax.scatter(*data['min'], label='min')\n",
    "    ax.scatter(*data['max'], label='max')\n",
    "\n",
    "s = readSpectrum('experiments/Fe_15620_1.nor', energyColumn=0, intensityColumn=3, skiprows = 38)\n",
    "def extraPlotter(ax):\n",
    "    ax.plot(s.energy, s.intensity, label='15620_1', linewidth=3)"
   ]
  },
  {
   "cell_type": "code",
   "execution_count": null,
   "metadata": {},
   "outputs": [],
   "source": [
    "inspector = SampleInspector(spectra, debug=False, extraPlotter=extraPlotter, \n",
    "                            eachGraphProcessor={'customProcessor':customProcessor, 'customPlotter':customPlotter},\n",
    "                            defaultParams={'xlim':(7100, 7200)})"
   ]
  },
  {
   "cell_type": "code",
   "execution_count": null,
   "metadata": {},
   "outputs": [],
   "source": []
  }
 ],
 "metadata": {
  "kernelspec": {
   "display_name": "Python 3 (ipykernel)",
   "language": "python",
   "name": "python3"
  },
  "language_info": {
   "codemirror_mode": {
    "name": "ipython",
    "version": 3
   },
   "file_extension": ".py",
   "mimetype": "text/x-python",
   "name": "python",
   "nbconvert_exporter": "python",
   "pygments_lexer": "ipython3",
   "version": "3.9.7"
  }
 },
 "nbformat": 4,
 "nbformat_minor": 2
}
