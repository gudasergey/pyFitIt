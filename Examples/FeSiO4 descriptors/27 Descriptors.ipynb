{
 "cells": [
  {
   "cell_type": "code",
   "execution_count": null,
   "metadata": {},
   "outputs": [],
   "source": [
    "%matplotlib inline\n",
    "import sys\n",
    "sys.path.append(\"../../..\")\n",
    "from pyfitit import *\n",
    "initPyfitit()"
   ]
  },
  {
   "cell_type": "markdown",
   "metadata": {},
   "source": [
    "# Construct Data from Several Samples"
   ]
  },
  {
   "cell_type": "code",
   "execution_count": null,
   "metadata": {},
   "outputs": [],
   "source": [
    "sampleFolder = 'samples'\n",
    "combinedSample = None\n",
    "for f in os.listdir(sampleFolder):\n",
    "    sample = readSample(sampleFolder+os.sep+f)\n",
    "    \n",
    "    CN = int(f[6:7]) # coordination number\n",
    "    \n",
    "    project = loadProject('Fe_tetra.py', CN=CN)\n",
    "\n",
    "    # function to calculate mean and std of the neighbour atoms of Fe\n",
    "    def calcDist(params, mol):\n",
    "        dists = mol.getSortedDists('O')\n",
    "        return [np.mean(dists[:CN]), np.std(dists[:CN])]\n",
    "    n = len(sample.params)\n",
    "    oldParams = sample.paramNames\n",
    "    \n",
    "    # add CN, avgDist, stdDist to sample.params database\n",
    "    sample.addParam(paramName='CN', paramData=np.ones(n)*CN)\n",
    "    sample.addParam(paramGenerator=calcDist, paramName=['avgDist','stdDist'], project=project)\n",
    "    \n",
    "    # delete old geometry parameters, because they differ in different samples\n",
    "    sample.delParam(oldParams)\n",
    "    \n",
    "    # smooth spectra\n",
    "    sample.spectra = smoothLib.smoothDataFrame(project.FDMNES_smooth, sample.spectra, 'fdmnes', \n",
    "         project.spectrum, project.intervals['fit_norm'], folder=sample.folder, norm=project.FDMNES_smooth['norm'])\n",
    "    \n",
    "    if combinedSample is None: combinedSample = sample\n",
    "    else: combinedSample.unionWith(sample)"
   ]
  },
  {
   "cell_type": "markdown",
   "metadata": {},
   "source": [
    "# Adding Experimental Specta (params - unknown)"
   ]
  },
  {
   "cell_type": "code",
   "execution_count": null,
   "metadata": {},
   "outputs": [],
   "source": [
    "exp_spectra_names = []\n",
    "exp_folder = 'experiments'\n",
    "exp_files = os.listdir(exp_folder)\n",
    "exp_files.sort()\n",
    "print('Unknown experimental spectrum numbering')\n",
    "i = 0\n",
    "for f in exp_files:\n",
    "    name = os.path.splitext(f)[0]\n",
    "    exp_spectra_names.append(name)\n",
    "    print(i, name)\n",
    "    extension = os.path.splitext(f)[1]\n",
    "    if extension == '.nor':\n",
    "        sp = readSpectrum(join(exp_folder,f), energyColumn=0, intensityColumn=3, skiprows=38)\n",
    "    else:\n",
    "        sp = readSpectrum(join(exp_folder, f), energyColumn=0, intensityColumn=1, skiprows=0, decimal=',')\n",
    "    combinedSample.addRow(sp)\n",
    "    i += 1"
   ]
  },
  {
   "cell_type": "markdown",
   "metadata": {},
   "source": [
    "# Save all data to folder"
   ]
  },
  {
   "cell_type": "code",
   "execution_count": null,
   "metadata": {},
   "outputs": [],
   "source": [
    "combinedSample.saveToFolder('sample_combined')"
   ]
  },
  {
   "cell_type": "markdown",
   "metadata": {},
   "source": [
    "# Calculate spectrum descriptors"
   ]
  },
  {
   "cell_type": "code",
   "execution_count": null,
   "metadata": {
    "scrolled": false
   },
   "outputs": [],
   "source": [
    "# function to add spectrum descriptors to the sample\n",
    "def addSpectrumDescriptors(sample):\n",
    "    data = sample.params\n",
    "    spectra = sample.spectra.to_numpy()\n",
    "    energy = sample.energy\n",
    "\n",
    "    ext_min = stableExtrema(spectra, energy, 'min', [7135,7190], plotResultToFolder='plot_min_desc')\n",
    "    data['pit_e'] = ext_min[:,0]\n",
    "    data['pit_int'] = ext_min[:,1]\n",
    "    data['pit_d2'] = ext_min[:,2]\n",
    "\n",
    "    ext_max = stableExtrema(spectra, energy, 'max', [7120,7150], plotResultToFolder='plot_max_desc')\n",
    "    data['max_e'] = ext_max[:,0]\n",
    "    data['max_int'] = ext_max[:,1]\n",
    "    data['max_d2'] = ext_max[:,2]\n",
    "    data['pit_e-max_e'] = data['pit_e'] - data['max_e']\n",
    "    data['max_pit_slope'] = (data['max_int'] - data['pit_int'])/(data['pit_e'] - data['max_e'])\n",
    "\n",
    "    efermi = efermiDescriptor(spectra, energy)\n",
    "    data['efermi'] = efermi[:,0]\n",
    "    data['efermiRate'] = efermi[:,1]\n",
    "\n",
    "    pca = pcaDescriptor(spectra, 3)\n",
    "    data['pca1'] = pca[:,0]\n",
    "    data['pca2'] = pca[:,1]\n",
    "    data['pca3'] = pca[:,2]\n",
    "\n",
    "    relpca = relPcaDescriptor(spectra, energy, efermi[:,0],  3)\n",
    "    data['rel_pca1'] = relpca[:,0]\n",
    "    data['rel_pca2'] = relpca[:,1]\n",
    "    data['rel_pca3'] = relpca[:,2]\n",
    "\n",
    "    sample.params = data"
   ]
  },
  {
   "cell_type": "code",
   "execution_count": null,
   "metadata": {},
   "outputs": [],
   "source": [
    "# add descriptors\n",
    "sampleWithDescriptors = combinedSample.copy()\n",
    "sampleWithDescriptors.limit([7100, 7200])\n",
    "addSpectrumDescriptors(sampleWithDescriptors)\n",
    "sampleWithDescriptors.saveToFolder('sample_with_descriptors')\n",
    "print('All descriptors of structure and spectrum:', sampleWithDescriptors.paramNames)"
   ]
  },
  {
   "cell_type": "markdown",
   "metadata": {},
   "source": [
    "# Plot Descriptors"
   ]
  },
  {
   "cell_type": "code",
   "execution_count": null,
   "metadata": {},
   "outputs": [],
   "source": [
    "sampleWithDescriptors = readSample('sample_with_descriptors')\n",
    "knownSample, unknownSample = sampleWithDescriptors.splitUnknown()\n",
    "plot_descriptors_2d(knownSample.params, descriptor_names=['efermi', 'pca1'], label_names=['avgDist'], \n",
    "                    folder_prefix='descr_2d', unknown=unknownSample.params, markersize=50, textsize=0, \n",
    "                    alpha=0.3, cv_count=10, plot_data_only=True)"
   ]
  },
  {
   "cell_type": "markdown",
   "metadata": {},
   "source": [
    "# Calculate Descriptor Quality"
   ]
  },
  {
   "cell_type": "code",
   "execution_count": null,
   "metadata": {},
   "outputs": [],
   "source": [
    "descriptor_quality(knownSample.params, label_names=['avgDist'], \n",
    "       all_features=['pit_e', 'pit_int', 'pit_d2', 'max_e', 'max_int', 'max_d2', 'pit_e-max_e', 'max_pit_slope', \n",
    "       'efermi', 'efermiRate', 'pca1', 'pca2', 'pca3', 'rel_pca1', 'rel_pca2', 'rel_pca3'], \n",
    "       feature_subset_size=1, cv_parts_count=5, cv_repeat=1, unknown_data=unknownSample.params, \n",
    "       folder='descriptor_quality', printDebug=True)"
   ]
  },
  {
   "cell_type": "markdown",
   "metadata": {},
   "source": [
    "# Make Descriptor Mixture"
   ]
  },
  {
   "cell_type": "code",
   "execution_count": null,
   "metadata": {},
   "outputs": [],
   "source": [
    "mixtureSample = generateMixtureOfSample(size=2000, componentCount=2, sample=knownSample, \n",
    "          label_names=['CN', 'avgDist', 'stdDist'], addDescrFunc=addSpectrumDescriptors)\n",
    "mixtureSample.saveToFolder('sample_of_mixtures')"
   ]
  },
  {
   "cell_type": "code",
   "execution_count": null,
   "metadata": {},
   "outputs": [],
   "source": [
    "mixtureSample = readSample('sample_of_mixtures')\n",
    "plot_descriptors_2d(mixtureSample.params, descriptor_names=['efermi', 'pca1'], label_names=['avgDist'], \n",
    "                    folder_prefix='descr_2d_mix', unknown=unknownSample.params, markersize=50, textsize=0, \n",
    "                    alpha=0.3, cv_count=10, plot_data_only=True)"
   ]
  },
  {
   "cell_type": "code",
   "execution_count": null,
   "metadata": {},
   "outputs": [],
   "source": []
  }
 ],
 "metadata": {
  "kernelspec": {
   "display_name": "Python 3",
   "language": "python",
   "name": "python3"
  },
  "language_info": {
   "codemirror_mode": {
    "name": "ipython",
    "version": 3
   },
   "file_extension": ".py",
   "mimetype": "text/x-python",
   "name": "python",
   "nbconvert_exporter": "python",
   "pygments_lexer": "ipython3",
   "version": "3.7.6"
  }
 },
 "nbformat": 4,
 "nbformat_minor": 4
}
