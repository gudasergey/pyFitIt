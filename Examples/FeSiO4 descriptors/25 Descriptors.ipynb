{
 "cells": [
  {
   "cell_type": "code",
   "execution_count": null,
   "metadata": {},
   "outputs": [],
   "source": [
    "%matplotlib inline\n",
    "from pyfitit import *\n",
    "initPyfitit()"
   ]
  },
  {
   "cell_type": "markdown",
   "metadata": {},
   "source": [
    "# Gather Data from Several Samples"
   ]
  },
  {
   "cell_type": "code",
   "execution_count": null,
   "metadata": {},
   "outputs": [],
   "source": [
    "def combineSamples():\n",
    "    sampleFolder = 'samples'\n",
    "    combinedSample = None\n",
    "    for f in os.listdir(sampleFolder):\n",
    "        sample = readSample(sampleFolder+os.sep+f)\n",
    "\n",
    "        CN = int(f[6:7]) # coordination number\n",
    "\n",
    "        project = loadProject('Fe_tetra.py', CN=CN)\n",
    "\n",
    "        # function to calculate mean and std of the neighbour atoms of Fe\n",
    "        def calcDist(params, mol):\n",
    "            dists = mol.getSortedDists('O')\n",
    "            return [np.mean(dists[:CN]), np.std(dists[:CN])]\n",
    "        n = len(sample.params)\n",
    "        oldParams = sample.paramNames\n",
    "\n",
    "        # add CN, avgDist, stdDist to sample.params database\n",
    "        sample.addParam(paramName='CN', paramData=np.ones(n)*CN)\n",
    "        sample.addParam(paramGenerator=calcDist, paramName=['avgDist','stdDist'], project=project)\n",
    "        sample.addParam(paramName='name', paramData=np.array([f'cn{CN}_{i}' for i in range(n)], dtype=object))\n",
    "\n",
    "        # delete old geometry parameters, because they differ in different samples\n",
    "        sample.delParam(oldParams)\n",
    "\n",
    "        # smooth spectra\n",
    "        sample.spectra = smoothLib.smoothDataFrame(project.FDMNES_smooth, sample.spectra, 'fdmnes', \n",
    "             project.spectrum, project.intervals['fit_norm'], folder=sample.folder)\n",
    "\n",
    "        if combinedSample is None: combinedSample = sample\n",
    "        else: combinedSample.unionWith(sample)\n",
    "    return combinedSample\n",
    "combinedSample = cacheInFile('generated/combinedSample.pkl', combineSamples)"
   ]
  },
  {
   "cell_type": "markdown",
   "metadata": {},
   "source": [
    "# Adding Experimental Specta (params - unknown)"
   ]
  },
  {
   "cell_type": "code",
   "execution_count": null,
   "metadata": {},
   "outputs": [],
   "source": [
    "combinedSample = loadData('generated/combinedSample.pkl')\n",
    "exp_spectra_names = []\n",
    "exp_folder = 'experiments'\n",
    "exp_files = os.listdir(exp_folder)\n",
    "exp_files.sort()\n",
    "i = 0\n",
    "for f in exp_files:\n",
    "    name = os.path.splitext(f)[0]\n",
    "    exp_spectra_names.append(name)\n",
    "    print(i, name)\n",
    "    extension = os.path.splitext(f)[1]\n",
    "    sp = readSpectrum(join(exp_folder,f), intensityColumn=3, guess=True)\n",
    "    combinedSample.addRow(sp, {'name':name})\n",
    "    i += 1"
   ]
  },
  {
   "cell_type": "markdown",
   "metadata": {},
   "source": [
    "# Save all data to folder"
   ]
  },
  {
   "cell_type": "code",
   "execution_count": null,
   "metadata": {},
   "outputs": [],
   "source": [
    "combinedSample.saveToFolder('generated/combinedSample')\n",
    "combinedSample.limit(energyRange=[7100,7250], inplace=False).plot(fileName='generated/combinedSample/plot.png', colorParam=combinedSample.params['CN'])"
   ]
  },
  {
   "cell_type": "markdown",
   "metadata": {},
   "source": [
    "# Calculate spectrum descriptors"
   ]
  },
  {
   "cell_type": "code",
   "execution_count": null,
   "metadata": {
    "scrolled": false
   },
   "outputs": [],
   "source": [
    "# function to add spectrum descriptors to the sample\n",
    "def addSpectrumDescriptors(sample, usePcaPrebuildData=True):\n",
    "    newSample, goodSpectrumIndices = addDescriptors(sample,\n",
    "             [{'type':'stableExtrema', 'extremaType':'max', 'energyInterval':[7120,7150]},\n",
    "              'efermi', \n",
    "              {'type':'pca', 'count':3, 'usePcaPrebuildData':usePcaPrebuildData, 'fileName':'generated/pcaPrebuildData.pkl'}, \n",
    "              {'type':'rel_pca', 'count':3, 'usePcaPrebuildData':usePcaPrebuildData, 'fileName':'generated/relPcaPrebuildData.pkl'},\n",
    "              {'type':'min', 'smoothRad':5, 'energyInterval':[7135,7190]},\n",
    "              {'type':'variation', 'smoothRad':5, 'energyInterval':[7135,7200]},\n",
    "              {'type':'polynom', 'deg':3, 'energyInterval':[7120, 7140], 'columnName':'polyn_a'},\n",
    "              {'type':'polynom', 'deg':3, 'energyInterval':[7140, 7160], 'columnName':'polyn_b'}\n",
    "             ])\n",
    "    if newSample.getLength() < sample.getLength(): print('Can\\'t build descriptors for several spectra')\n",
    "    d = newSample.params\n",
    "    newSample.addParam(paramName='min_e-max_e', paramData=d['min_e'] - d['max_e'])\n",
    "    newSample.addParam(paramName='max_min_slope', paramData=(d['max_i'] - d['min_i'])/(d['min_e'] - d['max_e']))\n",
    "    return newSample"
   ]
  },
  {
   "cell_type": "code",
   "execution_count": null,
   "metadata": {},
   "outputs": [],
   "source": [
    "# add descriptors\n",
    "sampleWithDescriptors = combinedSample.copy()\n",
    "sampleWithDescriptors.limit([7100, 7200], inplace=True)\n",
    "sampleWithDescriptors = cacheInFile('generated/sampleWithDescriptors.pkl', lambda: addSpectrumDescriptors(sampleWithDescriptors, usePcaPrebuildData=False))\n",
    "sampleWithDescriptors.saveToFolder('generated/sampleWithDescriptors')\n",
    "sampleWithDescriptors.plot(fileName='generated/sampleWithDescriptors/plot.png', colorParam=sampleWithDescriptors.params['max_e'])\n",
    "print('All descriptors of structure and spectrum:', sampleWithDescriptors.paramNames)"
   ]
  },
  {
   "cell_type": "markdown",
   "metadata": {},
   "source": [
    "# Plot Descriptors"
   ]
  },
  {
   "cell_type": "code",
   "execution_count": null,
   "metadata": {},
   "outputs": [],
   "source": [
    "sampleWithDescriptors = loadData('generated/sampleWithDescriptors.pkl')\n",
    "knownSample, unknownSample = sampleWithDescriptors.splitUnknown()\n",
    "plotDescriptors2d(knownSample.params, descriptor_names=['min_e', 'max_e'], label_names=['avgDist'], \n",
    "                    folder_prefix='descr_2d', unknown=unknownSample.params, cv_count=10, plot_only='data and quality', \n",
    "                    textColumn='name', textsize=0, dpi=300)"
   ]
  },
  {
   "cell_type": "markdown",
   "metadata": {},
   "source": [
    "# Calculate Descriptor Quality"
   ]
  },
  {
   "cell_type": "code",
   "execution_count": null,
   "metadata": {},
   "outputs": [],
   "source": [
    "all_features = list(set(knownSample.paramNames) - {'name', 'CN', 'avgDist', 'stdDist'})\n",
    "descriptorQuality(knownSample.params, label_names=['avgDist'], all_features=all_features, \n",
    "       feature_subset_size=1, cv_parts_count=5, cv_repeat=1, unknown_data=unknownSample.params, \n",
    "       folder='descriptor_quality', printDebug=True)"
   ]
  },
  {
   "cell_type": "markdown",
   "metadata": {},
   "source": [
    "# Make Descriptor Mixture"
   ]
  },
  {
   "cell_type": "code",
   "execution_count": null,
   "metadata": {},
   "outputs": [],
   "source": [
    "mixtureSample = cacheInFile('generated/mixtureSample.pkl', \n",
    "    lambda: generateMixtureOfSample(size=2000, componentCount=2, sample=knownSample, \n",
    "        label_names=['CN', 'avgDist', 'stdDist'], addDescrFunc=addSpectrumDescriptors))\n",
    "mixtureSample.saveToFolder('generated/mixtureSample')\n",
    "mixtureSample.plot(fileName='generated/mixtureSample/plot.png', colorParam=mixtureSample.params['max_e'])"
   ]
  },
  {
   "cell_type": "code",
   "execution_count": null,
   "metadata": {},
   "outputs": [],
   "source": [
    "mixtureSample = loadData('generated/mixtureSample.pkl')\n",
    "plotDescriptors2d(mixtureSample.params, descriptor_names=['polyn_b_3', 'rel_pca2'], label_names=['avgDist'], \n",
    "                    folder_prefix='descr_2d_mix', unknown=unknownSample.params, textsize=0, dpi=300, \n",
    "                    cv_count=10, plot_only='data and quality', textColumn='name')"
   ]
  },
  {
   "cell_type": "code",
   "execution_count": null,
   "metadata": {},
   "outputs": [],
   "source": []
  }
 ],
 "metadata": {
  "kernelspec": {
   "display_name": "Python 3 (ipykernel)",
   "language": "python",
   "name": "python3"
  },
  "language_info": {
   "codemirror_mode": {
    "name": "ipython",
    "version": 3
   },
   "file_extension": ".py",
   "mimetype": "text/x-python",
   "name": "python",
   "nbconvert_exporter": "python",
   "pygments_lexer": "ipython3",
   "version": "3.9.7"
  }
 },
 "nbformat": 4,
 "nbformat_minor": 4
}
