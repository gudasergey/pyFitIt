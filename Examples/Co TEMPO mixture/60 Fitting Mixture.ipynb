{
 "cells": [
  {
   "cell_type": "markdown",
   "metadata": {
    "collapsed": true
   },
   "source": [
    "# Importing experiment data"
   ]
  },
  {
   "cell_type": "code",
   "execution_count": 1,
   "metadata": {
    "pycharm": {
     "is_executing": false
    }
   },
   "outputs": [
    {
     "name": "stderr",
     "output_type": "stream",
     "text": [
      "/opt/anaconda/lib/python3.7/site-packages/sklearn/utils/deprecation.py:144: FutureWarning: The sklearn.utils.testing module is  deprecated in version 0.22 and will be removed in version 0.24. The corresponding classes / functions should instead be imported from sklearn.utils. Anything that cannot be imported from sklearn.utils is now part of the private API.\n",
      "  warnings.warn(message, FutureWarning)\n"
     ]
    },
    {
     "data": {
      "text/html": [
       "<style>\n",
       "    .container { width:100% !important; }\n",
       "    .output_area {display:inline-block !important; }\n",
       "    .cell > .output_wrapper > .output {margin-left: 14ex;}\n",
       "    .out_prompt_overlay.prompt {min-width: 14ex;}\n",
       "    .fitBySlidersOutput {flex-direction:row !important; }\n",
       "    /*.fitBySlidersOutput .p-Widget.jupyter-widgets-output-area.output_wrapper {display:none} - прячет ошибки*/\n",
       "    .fitBySlidersOutput div.output_subarea {max-width: inherit}\n",
       "    .fitBySlidersExafsOutput {flex-direction:row !important; }\n",
       "    /*.fitBySlidersExafsOutput .p-Widget.jupyter-widgets-output-area.output_wrapper {display:none} - прячет ошибки*/\n",
       "    .fitBySlidersExafsOutput div.output_subarea {max-width: inherit}\n",
       "    .pcaOutput { display:block; }\n",
       "    .pcaOutput div.output_subarea {max-width: inherit}\n",
       "    .pcaOutput .output_subarea .widget-hbox { place-content: initial!important; }\n",
       "    .pcaOutput > .output_area:nth-child(2) {float:left !important; }\n",
       "    .pcaOutput > .output_area:nth-child(3) {display:block !important; }\n",
       "    .pcaOutput > .output_area:nth-child(4) { /* width:100%; */ }\n",
       "    .status { white-space: pre; }\n",
       "\n",
       "    .fileBrowser {margin-left:14ex; display:block; }\n",
       "    .fileBrowser div.p-Panel {display:block; }\n",
       "    .fileBrowser button.folder { font-weight:bold; }\n",
       "    .fileBrowser button.parentFolder { font-size:200%; }\n",
       "\n",
       "    .widget-inline-hbox .widget-label {width:auto}\n",
       "    </style>"
      ],
      "text/plain": [
       "<IPython.core.display.HTML object>"
      ]
     },
     "metadata": {},
     "output_type": "display_data"
    },
    {
     "data": {
      "text/html": [
       "<style>\n",
       "    .container { width:100% !important; }\n",
       "    .output_area {display:inline-block !important; }\n",
       "    .cell > .output_wrapper > .output {margin-left: 14ex;}\n",
       "    .out_prompt_overlay.prompt {min-width: 14ex;}\n",
       "    .fitBySlidersOutput {flex-direction:row !important; }\n",
       "    /*.fitBySlidersOutput .p-Widget.jupyter-widgets-output-area.output_wrapper {display:none} - прячет ошибки*/\n",
       "    .fitBySlidersOutput div.output_subarea {max-width: inherit}\n",
       "    .fitBySlidersExafsOutput {flex-direction:row !important; }\n",
       "    /*.fitBySlidersExafsOutput .p-Widget.jupyter-widgets-output-area.output_wrapper {display:none} - прячет ошибки*/\n",
       "    .fitBySlidersExafsOutput div.output_subarea {max-width: inherit}\n",
       "    .pcaOutput { display:block; }\n",
       "    .pcaOutput div.output_subarea {max-width: inherit}\n",
       "    .pcaOutput .output_subarea .widget-hbox { place-content: initial!important; }\n",
       "    .pcaOutput > .output_area:nth-child(2) {float:left !important; }\n",
       "    .pcaOutput > .output_area:nth-child(3) {display:block !important; }\n",
       "    .pcaOutput > .output_area:nth-child(4) { /* width:100%; */ }\n",
       "    .status { white-space: pre; }\n",
       "\n",
       "    .fileBrowser {margin-left:14ex; display:block; }\n",
       "    .fileBrowser div.p-Panel {display:block; }\n",
       "    .fileBrowser button.folder { font-weight:bold; }\n",
       "    .fileBrowser button.parentFolder { font-size:200%; }\n",
       "\n",
       "    .widget-inline-hbox .widget-label {width:auto}\n",
       "    </style>"
      ],
      "text/plain": [
       "<IPython.core.display.HTML object>"
      ]
     },
     "metadata": {},
     "output_type": "display_data"
    },
    {
     "data": {
      "text/html": [
       "<style>\n",
       "    .container { width:100% !important; }\n",
       "    .output_area {display:inline-block !important; }\n",
       "    .cell > .output_wrapper > .output {margin-left: 14ex;}\n",
       "    .out_prompt_overlay.prompt {min-width: 14ex;}\n",
       "    .fitBySlidersOutput {flex-direction:row !important; }\n",
       "    /*.fitBySlidersOutput .p-Widget.jupyter-widgets-output-area.output_wrapper {display:none} - прячет ошибки*/\n",
       "    .fitBySlidersOutput div.output_subarea {max-width: inherit}\n",
       "    .fitBySlidersExafsOutput {flex-direction:row !important; }\n",
       "    /*.fitBySlidersExafsOutput .p-Widget.jupyter-widgets-output-area.output_wrapper {display:none} - прячет ошибки*/\n",
       "    .fitBySlidersExafsOutput div.output_subarea {max-width: inherit}\n",
       "    .pcaOutput { display:block; }\n",
       "    .pcaOutput div.output_subarea {max-width: inherit}\n",
       "    .pcaOutput .output_subarea .widget-hbox { place-content: initial!important; }\n",
       "    .pcaOutput > .output_area:nth-child(2) {float:left !important; }\n",
       "    .pcaOutput > .output_area:nth-child(3) {display:block !important; }\n",
       "    .pcaOutput > .output_area:nth-child(4) { /* width:100%; */ }\n",
       "    .status { white-space: pre; }\n",
       "\n",
       "    .fileBrowser {margin-left:14ex; display:block; }\n",
       "    .fileBrowser div.p-Panel {display:block; }\n",
       "    .fileBrowser button.folder { font-weight:bold; }\n",
       "    .fileBrowser button.parentFolder { font-size:200%; }\n",
       "\n",
       "    .widget-inline-hbox .widget-label {width:auto}\n",
       "    </style>"
      ],
      "text/plain": [
       "<IPython.core.display.HTML object>"
      ]
     },
     "metadata": {},
     "output_type": "display_data"
    },
    {
     "data": {
      "text/html": [
       "<style>\n",
       "    .container { width:100% !important; }\n",
       "    .output_area {display:inline-block !important; }\n",
       "    .cell > .output_wrapper > .output {margin-left: 14ex;}\n",
       "    .out_prompt_overlay.prompt {min-width: 14ex;}\n",
       "    .fitBySlidersOutput {flex-direction:row !important; }\n",
       "    /*.fitBySlidersOutput .p-Widget.jupyter-widgets-output-area.output_wrapper {display:none} - прячет ошибки*/\n",
       "    .fitBySlidersOutput div.output_subarea {max-width: inherit}\n",
       "    .fitBySlidersExafsOutput {flex-direction:row !important; }\n",
       "    /*.fitBySlidersExafsOutput .p-Widget.jupyter-widgets-output-area.output_wrapper {display:none} - прячет ошибки*/\n",
       "    .fitBySlidersExafsOutput div.output_subarea {max-width: inherit}\n",
       "    .pcaOutput { display:block; }\n",
       "    .pcaOutput div.output_subarea {max-width: inherit}\n",
       "    .pcaOutput .output_subarea .widget-hbox { place-content: initial!important; }\n",
       "    .pcaOutput > .output_area:nth-child(2) {float:left !important; }\n",
       "    .pcaOutput > .output_area:nth-child(3) {display:block !important; }\n",
       "    .pcaOutput > .output_area:nth-child(4) { /* width:100%; */ }\n",
       "    .status { white-space: pre; }\n",
       "\n",
       "    .fileBrowser {margin-left:14ex; display:block; }\n",
       "    .fileBrowser div.p-Panel {display:block; }\n",
       "    .fileBrowser button.folder { font-weight:bold; }\n",
       "    .fileBrowser button.parentFolder { font-size:200%; }\n",
       "\n",
       "    .widget-inline-hbox .widget-label {width:auto}\n",
       "    </style>"
      ],
      "text/plain": [
       "<IPython.core.display.HTML object>"
      ]
     },
     "metadata": {},
     "output_type": "display_data"
    },
    {
     "data": {
      "text/html": [
       "<style>\n",
       "    .container { width:100% !important; }\n",
       "    .output_area {display:inline-block !important; }\n",
       "    .cell > .output_wrapper > .output {margin-left: 14ex;}\n",
       "    .out_prompt_overlay.prompt {min-width: 14ex;}\n",
       "    .fitBySlidersOutput {flex-direction:row !important; }\n",
       "    /*.fitBySlidersOutput .p-Widget.jupyter-widgets-output-area.output_wrapper {display:none} - прячет ошибки*/\n",
       "    .fitBySlidersOutput div.output_subarea {max-width: inherit}\n",
       "    .fitBySlidersExafsOutput {flex-direction:row !important; }\n",
       "    /*.fitBySlidersExafsOutput .p-Widget.jupyter-widgets-output-area.output_wrapper {display:none} - прячет ошибки*/\n",
       "    .fitBySlidersExafsOutput div.output_subarea {max-width: inherit}\n",
       "    .pcaOutput { display:block; }\n",
       "    .pcaOutput div.output_subarea {max-width: inherit}\n",
       "    .pcaOutput .output_subarea .widget-hbox { place-content: initial!important; }\n",
       "    .pcaOutput > .output_area:nth-child(2) {float:left !important; }\n",
       "    .pcaOutput > .output_area:nth-child(3) {display:block !important; }\n",
       "    .pcaOutput > .output_area:nth-child(4) { /* width:100%; */ }\n",
       "    .status { white-space: pre; }\n",
       "\n",
       "    .fileBrowser {margin-left:14ex; display:block; }\n",
       "    .fileBrowser div.p-Panel {display:block; }\n",
       "    .fileBrowser button.folder { font-weight:bold; }\n",
       "    .fileBrowser button.parentFolder { font-size:200%; }\n",
       "\n",
       "    .widget-inline-hbox .widget-label {width:auto}\n",
       "    </style>"
      ],
      "text/plain": [
       "<IPython.core.display.HTML object>"
      ]
     },
     "metadata": {},
     "output_type": "display_data"
    }
   ],
   "source": [
    "%matplotlib notebook\n",
    "import sys\n",
    "sys.path.append(\"../../..\")\n",
    "from pyfitit import *\n",
    "\n",
    "project_list = [\n",
    "    loadProject('Co_common.py', expFile='exp_increase.dat', label='117'),\n",
    "    loadProject('Co_common.py', expFile='exp_increase.dat', label='300')\n",
    "    ]"
   ]
  },
  {
   "cell_type": "markdown",
   "metadata": {},
   "source": [
    "# Importing XANES calculated for support points"
   ]
  },
  {
   "cell_type": "code",
   "execution_count": 3,
   "metadata": {},
   "outputs": [],
   "source": [
    "sample_list = [readSample('IHS_100'), readSample('IHS_100')]"
   ]
  },
  {
   "cell_type": "markdown",
   "metadata": {},
   "source": [
    "# Fitting XANES by sliders"
   ]
  },
  {
   "cell_type": "code",
   "execution_count": 5,
   "metadata": {
    "scrolled": false
   },
   "outputs": [
    {
     "ename": "TypeError",
     "evalue": "__init__() missing 3 required positional arguments: 'project', 'theoryProcessingPipeline', and 'defaultParams'",
     "output_type": "error",
     "traceback": [
      "\u001b[0;31m---------------------------------------------------------------------------\u001b[0m",
      "\u001b[0;31mTypeError\u001b[0m                                 Traceback (most recent call last)",
      "\u001b[0;32m<ipython-input-5-dc0b08a83c7c>\u001b[0m in \u001b[0;36m<module>\u001b[0;34m\u001b[0m\n\u001b[0;32m----> 1\u001b[0;31m \u001b[0mfitResult\u001b[0m \u001b[0;34m=\u001b[0m \u001b[0mfitBySlidersMixture\u001b[0m\u001b[0;34m(\u001b[0m\u001b[0msample_list\u001b[0m\u001b[0;34m,\u001b[0m \u001b[0mproject_list\u001b[0m\u001b[0;34m)\u001b[0m \u001b[0;31m#, defaultParams='params.txt'\u001b[0m\u001b[0;34m\u001b[0m\u001b[0;34m\u001b[0m\u001b[0m\n\u001b[0m",
      "\u001b[0;32m/data/WorkProgs/2017 MachLearn FDMNES/pyFitIt/pyfitit/uiControls.py\u001b[0m in \u001b[0;36m__init__\u001b[0;34m(self, sampleList, projectList, defaultParams, debug)\u001b[0m\n\u001b[1;32m    933\u001b[0m         \u001b[0mself\u001b[0m\u001b[0;34m.\u001b[0m\u001b[0mcomponentFitters\u001b[0m \u001b[0;34m=\u001b[0m \u001b[0;32mNone\u001b[0m\u001b[0;34m\u001b[0m\u001b[0;34m\u001b[0m\u001b[0m\n\u001b[1;32m    934\u001b[0m         \u001b[0mself\u001b[0m\u001b[0;34m.\u001b[0m\u001b[0mrFactor\u001b[0m \u001b[0;34m=\u001b[0m \u001b[0mRFactor\u001b[0m\u001b[0;34m(\u001b[0m\u001b[0;34m)\u001b[0m\u001b[0;34m\u001b[0m\u001b[0;34m\u001b[0m\u001b[0m\n\u001b[0;32m--> 935\u001b[0;31m         \u001b[0mself\u001b[0m\u001b[0;34m.\u001b[0m\u001b[0msetup\u001b[0m\u001b[0;34m(\u001b[0m\u001b[0mdebug\u001b[0m\u001b[0;34m,\u001b[0m \u001b[0mdefaultParams\u001b[0m\u001b[0;34m)\u001b[0m\u001b[0;34m\u001b[0m\u001b[0;34m\u001b[0m\u001b[0m\n\u001b[0m\u001b[1;32m    936\u001b[0m \u001b[0;34m\u001b[0m\u001b[0m\n\u001b[1;32m    937\u001b[0m     \u001b[0;32mdef\u001b[0m \u001b[0msetup\u001b[0m\u001b[0;34m(\u001b[0m\u001b[0mself\u001b[0m\u001b[0;34m,\u001b[0m \u001b[0mdebug\u001b[0m\u001b[0;34m,\u001b[0m \u001b[0mdefaultParams\u001b[0m\u001b[0;34m)\u001b[0m\u001b[0;34m:\u001b[0m\u001b[0;34m\u001b[0m\u001b[0;34m\u001b[0m\u001b[0m\n",
      "\u001b[0;32m/data/WorkProgs/2017 MachLearn FDMNES/pyFitIt/pyfitit/uiControls.py\u001b[0m in \u001b[0;36msetup\u001b[0;34m(self, debug, defaultParams)\u001b[0m\n\u001b[1;32m    942\u001b[0m         \u001b[0;31m# builder.addSelectionSlider(\"Tmp\", spectra.labels)\u001b[0m\u001b[0;34m\u001b[0m\u001b[0;34m\u001b[0m\u001b[0;34m\u001b[0m\u001b[0m\n\u001b[1;32m    943\u001b[0m         \u001b[0;31m# builder.addButton('Eval Mean')\u001b[0m\u001b[0;34m\u001b[0m\u001b[0;34m\u001b[0m\u001b[0;34m\u001b[0m\u001b[0m\n\u001b[0;32m--> 944\u001b[0;31m         \u001b[0mparameters\u001b[0m \u001b[0;34m=\u001b[0m \u001b[0mProjectParametersBuilder\u001b[0m\u001b[0;34m(\u001b[0m\u001b[0mbuilder\u001b[0m\u001b[0;34m)\u001b[0m\u001b[0;34m\u001b[0m\u001b[0;34m\u001b[0m\u001b[0m\n\u001b[0m\u001b[1;32m    945\u001b[0m         \u001b[0mparameters\u001b[0m\u001b[0;34m.\u001b[0m\u001b[0maddEstimatorDropdown\u001b[0m\u001b[0;34m(\u001b[0m\u001b[0;34m)\u001b[0m\u001b[0;34m\u001b[0m\u001b[0;34m\u001b[0m\u001b[0m\n\u001b[1;32m    946\u001b[0m \u001b[0;34m\u001b[0m\u001b[0m\n",
      "\u001b[0;31mTypeError\u001b[0m: __init__() missing 3 required positional arguments: 'project', 'theoryProcessingPipeline', and 'defaultParams'"
     ]
    }
   ],
   "source": [
    "fitResult = fitBySlidersMixture(sample_list, project_list) #, defaultParams='params.txt'"
   ]
  },
  {
   "cell_type": "markdown",
   "metadata": {},
   "source": [
    "# Save results to files"
   ]
  },
  {
   "cell_type": "code",
   "execution_count": null,
   "metadata": {},
   "outputs": [],
   "source": [
    "fitResult.saveAllData('results')"
   ]
  },
  {
   "cell_type": "code",
   "execution_count": null,
   "metadata": {},
   "outputs": [],
   "source": []
  }
 ],
 "metadata": {
  "kernelspec": {
   "display_name": "Python 3",
   "language": "python",
   "name": "python3"
  },
  "language_info": {
   "codemirror_mode": {
    "name": "ipython",
    "version": 3
   },
   "file_extension": ".py",
   "mimetype": "text/x-python",
   "name": "python",
   "nbconvert_exporter": "python",
   "pygments_lexer": "ipython3",
   "version": "3.7.6"
  }
 },
 "nbformat": 4,
 "nbformat_minor": 2
}
