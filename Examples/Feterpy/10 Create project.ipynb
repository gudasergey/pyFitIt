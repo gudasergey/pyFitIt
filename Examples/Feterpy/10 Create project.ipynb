{
 "cells": [
  {
   "cell_type": "code",
   "execution_count": null,
   "metadata": {},
   "outputs": [],
   "source": [
    "from pyfitit import *\n",
    "initPyfitit()"
   ]
  },
  {
   "cell_type": "markdown",
   "metadata": {},
   "source": [
    "# Define molecule structure by given geometry parameters\n",
    "### Note in python all numeration starts from 0."
   ]
  },
  {
   "cell_type": "code",
   "execution_count": null,
   "metadata": {},
   "outputs": [],
   "source": [
    "def moleculeConstructor(project, params):\n",
    "    projectFolder = getProjectFolder()\n",
    "    \n",
    "    ### specify name of your initial xyz file and atomic numbers for each part that will move\n",
    "    \n",
    "    m = Molecule(join(projectFolder,'Fe_terpy.xyz'))\n",
    "    m.setParts('0','1-9','10-19','20-29','30-38','39-48','49-58')\n",
    "    \n",
    "    ### specify each deformation. Note that all numeration in Python starts from 0.\n",
    "    #1. Name of the deformation i.e. name of geometry parameter\n",
    "    #2. Parts of the stucture involved\n",
    "    #3. Axis for deformation, which passes through two atoms\n",
    "    #4. Move atoms\n",
    "    \n",
    "    deformation = 'centralRing1_Shift'\n",
    "    part = 1\n",
    "    axis = m.atom[1] - m.atom[0]; axis = axis / norm(axis)\n",
    "    m.part[part].shift(axis*params[deformation])\n",
    "    \n",
    "    deformation = 'sideRings1_Shift'\n",
    "    part1 = 2; part2 = 3\n",
    "    axis = m.atom[1] - m.atom[0]; axis = axis / norm(axis)\n",
    "    m.part[part1].shift(axis*params[deformation])\n",
    "    m.part[part2].shift(axis*params[deformation])\n",
    "    \n",
    "    deformation = 'sideRings1_Elong'\n",
    "    part1 = 2; part2 = 3\n",
    "    axis1 = m.atom[10] - m.atom[0]; axis1 = axis1 / norm(axis1)\n",
    "    axis2 = m.atom[20] - m.atom[0]; axis2 = axis2 / norm(axis2)\n",
    "    m.part[part1].shift(axis1*params[deformation])\n",
    "    m.part[part2].shift(axis2*params[deformation])\n",
    "    \n",
    "    deformation = 'centralRing2_Shift'\n",
    "    part = 4\n",
    "    axis = m.atom[30] - m.atom[0]; axis = axis / norm(axis)\n",
    "    m.part[part].shift(axis*params[deformation])\n",
    "    \n",
    "    deformation = 'sideRings2_Shift'\n",
    "    part1 = 5; part2 = 6\n",
    "    axis = m.atom[30] - m.atom[0]; axis = axis / norm(axis)\n",
    "    m.part[part1].shift(axis*params[deformation])\n",
    "    m.part[part2].shift(axis*params[deformation])\n",
    "    \n",
    "    deformation = 'sideRings2_Elong'\n",
    "    part1 = 5; part2 = 6\n",
    "    axis1 = m.atom[39] - m.atom[0]; axis1 = axis1 / norm(axis1)\n",
    "    axis2 = m.atom[49] - m.atom[0]; axis2 = axis2 / norm(axis2)\n",
    "    m.part[part1].shift(axis1*params[deformation])\n",
    "    m.part[part2].shift(axis2*params[deformation])\n",
    "    \n",
    "    # return molecule after check\n",
    "    if not m.checkInteratomicDistance(minDist = 0.8):\n",
    "        print('Warning: there are atoms with distance < minDist')\n",
    "    return m\n"
   ]
  },
  {
   "cell_type": "markdown",
   "metadata": {},
   "source": [
    "# Note in python all numeration starts from 0."
   ]
  },
  {
   "cell_type": "code",
   "execution_count": null,
   "metadata": {},
   "outputs": [],
   "source": [
    "#specify the filename for the experimental data\n",
    "def projectConstructor(expFile='exp_ground.txt'):\n",
    "    project = Project()\n",
    "        \n",
    "    project.name = 'Feterpy_'+expFile\n",
    "    project.expFile = expFile\n",
    "    \n",
    "    filePath = join(getProjectFolder(), expFile)\n",
    "    #load experimental data. \n",
    "    #Specify energy column number (numbering starts from zero)\n",
    "    #Specify intensity column number\n",
    "    #Specify number of lines to skip: skiprows = 1\n",
    "    project.spectrum = readSpectrum(filePath, energyColumn=0, intensityColumn=1, skiprows = 1)\n",
    "    #Number of spectrum points to use for machine learning prediction (bigger is slower)\n",
    "    project.maxSpectrumPoints = 100\n",
    "    \n",
    "    #specify part of experimental spectrum for fitting\n",
    "    a = 7113; b = 7213\n",
    "    project.intervals = {\n",
    "      'fit_norm': [a, b],\n",
    "      'fit_smooth': [a, b],\n",
    "      'fit_geometry': [a, b],\n",
    "      'plot': [a, b]\n",
    "    }\n",
    "    #specify ranges of deformations\n",
    "    project.geometryParamRanges = {\n",
    "        'centralRing1_Shift': [-0.3, 0.5], \n",
    "        'sideRings1_Shift': [-0.3, 0.5], \n",
    "        'sideRings1_Elong': [-0.3, 0.5], \n",
    "        'centralRing2_Shift': [-0.3, 0.5], \n",
    "        'sideRings2_Shift': [-0.3, 0.5], \n",
    "        'sideRings2_Elong': [-0.3, 0.5]\n",
    "    }\n",
    "    #specify parameters of calculation by FDMNES\n",
    "    project.FDMNES_calc = {\n",
    "        'Energy range': '-15 0.02 8 0.1 18 0.5 30 2 54 3 117',\n",
    "        'Green': False,\n",
    "        'radius': 5,\n",
    "    }\n",
    "    #specify convolution parameters and spectrum shift\n",
    "    project.FDMNES_smooth = {\n",
    "        'Gamma_hole': 1.5,\n",
    "        'Ecent': 50,\n",
    "        'Elarg': 50,\n",
    "        'Gamma_max': 15,\n",
    "        'Efermi': 0,\n",
    "        'shift': 7113,\n",
    "    }\n",
    "    project.FEFF_calc = {\n",
    "        'temperature': 300, \n",
    "        'Debye Temperature': 300,\n",
    "    }\n",
    "    project.moleculeConstructor = MethodType(moleculeConstructor, project)\n",
    "    return project\n",
    "    "
   ]
  },
  {
   "cell_type": "markdown",
   "metadata": {},
   "source": [
    "==========================================================================================\n",
    "\n",
    "Anything below this line won't be included into the resulting project file. You can write arbitrary code from now on. Call projectConstructor for the given project parameters and then calls moleculaConstructor for some geometry parameters."
   ]
  },
  {
   "cell_type": "code",
   "execution_count": null,
   "metadata": {},
   "outputs": [],
   "source": [
    "checkProject(projectConstructor, checkProjectParameters = {'expFile':'exp_ground.txt'})"
   ]
  },
  {
   "cell_type": "markdown",
   "metadata": {},
   "source": [
    "Check the file molecule.xyz created by command checkproject with specified structural parameters. You can specify any set of parameters to check your deformations"
   ]
  },
  {
   "cell_type": "code",
   "execution_count": null,
   "metadata": {},
   "outputs": [],
   "source": [
    "saveNotebook()"
   ]
  },
  {
   "cell_type": "markdown",
   "metadata": {},
   "source": [
    "This command must be executed to prepare input file for successive calculations"
   ]
  },
  {
   "cell_type": "code",
   "execution_count": null,
   "metadata": {},
   "outputs": [],
   "source": [
    "saveAsProject('FeterpyProject.py')"
   ]
  },
  {
   "cell_type": "code",
   "execution_count": null,
   "metadata": {},
   "outputs": [],
   "source": []
  }
 ],
 "metadata": {
  "kernelspec": {
   "display_name": "Python 3",
   "language": "python",
   "name": "python3"
  },
  "language_info": {
   "codemirror_mode": {
    "name": "ipython",
    "version": 3
   },
   "file_extension": ".py",
   "mimetype": "text/x-python",
   "name": "python",
   "nbconvert_exporter": "python",
   "pygments_lexer": "ipython3",
   "version": "3.6.5"
  }
 },
 "nbformat": 4,
 "nbformat_minor": 2
}
