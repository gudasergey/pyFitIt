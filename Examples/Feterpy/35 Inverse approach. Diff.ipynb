{
 "cells": [
  {
   "cell_type": "markdown",
   "metadata": {
    "collapsed": true
   },
   "source": [
    "# Importing experiment data"
   ]
  },
  {
   "cell_type": "code",
   "execution_count": null,
   "metadata": {},
   "outputs": [],
   "source": [
    "%matplotlib inline\n",
    "from pyfitit import *\n",
    "\n",
    "project = loadProject('FeterpyProject.py', expFile = 'exp_excited.txt')\n",
    "projectBase = loadProject('FeterpyProject.py', expFile = 'exp_ground.txt')\n",
    "spectrumBase = parseFdmnesFolder('fdmnes_fdm_5')"
   ]
  },
  {
   "cell_type": "markdown",
   "metadata": {},
   "source": [
    "# Importing XANES calculated for support points"
   ]
  },
  {
   "cell_type": "code",
   "execution_count": null,
   "metadata": {},
   "outputs": [],
   "source": [
    "sample = readSample('IHS_729')\n",
    "sampleCompare = readSample('line_200')"
   ]
  },
  {
   "cell_type": "markdown",
   "metadata": {},
   "source": [
    "# Construct the iverse estimator"
   ]
  },
  {
   "cell_type": "code",
   "execution_count": null,
   "metadata": {},
   "outputs": [],
   "source": [
    "convolutionParams = {'Gamma_hole':6.1305, 'Ecent':27.771, 'Elarg':1, 'Efermi':10.075, 'Gamma_max':13.238, 'shift':7112.6, 'norm':None}\n",
    "inverseEstimator = constructInverseEstimator('Extra Trees', project, convolutionParams, CVcount=2, folderToSaveCVresult='results/inverseEstimator_CVresult',\n",
    "                                            diffFrom = {'projectBase':projectBase, 'spectrumBase':spectrumBase, 'purity':1})"
   ]
  },
  {
   "cell_type": "markdown",
   "metadata": {},
   "source": [
    "# Compare different machine learning methods\n",
    "**sampleTest** should be linear sample\n",
    "\n",
    "Spectra are smoothed **before prediction**"
   ]
  },
  {
   "cell_type": "code",
   "execution_count": null,
   "metadata": {
    "scrolled": false
   },
   "outputs": [],
   "source": [
    "inverseEstimator.compareDifferentMethods(sampleTrain = sample, sampleTest = sampleCompare, \n",
    "    energyPoint=7143, geometryParam='centralRing1_Shift', doCV = True, \n",
    "    folderToSaveResult = 'results/inverseMethodsCompare')"
   ]
  },
  {
   "cell_type": "markdown",
   "metadata": {},
   "source": [
    "# Train the estimator"
   ]
  },
  {
   "cell_type": "code",
   "execution_count": null,
   "metadata": {
    "scrolled": false
   },
   "outputs": [],
   "source": [
    "inverseEstimator.fit(sample)"
   ]
  },
  {
   "cell_type": "markdown",
   "metadata": {},
   "source": [
    "# Start automatic fitting"
   ]
  },
  {
   "cell_type": "code",
   "execution_count": null,
   "metadata": {
    "scrolled": false
   },
   "outputs": [],
   "source": [
    "inverseMethod.findGlobalL2NormMinimum(10, inverseEstimator, folderToSaveResult = 'results/inverseMethodResults')"
   ]
  },
  {
   "cell_type": "code",
   "execution_count": null,
   "metadata": {},
   "outputs": [],
   "source": []
  }
 ],
 "metadata": {
  "kernelspec": {
   "display_name": "Python 3",
   "language": "python",
   "name": "python3"
  },
  "language_info": {
   "codemirror_mode": {
    "name": "ipython",
    "version": 3
   },
   "file_extension": ".py",
   "mimetype": "text/x-python",
   "name": "python",
   "nbconvert_exporter": "python",
   "pygments_lexer": "ipython3",
   "version": "3.6.5"
  }
 },
 "nbformat": 4,
 "nbformat_minor": 2
}
