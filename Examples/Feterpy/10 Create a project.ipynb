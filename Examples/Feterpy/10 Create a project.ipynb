{
 "cells": [
  {
   "cell_type": "markdown",
   "metadata": {},
   "source": [
    "## Import libraries"
   ]
  },
  {
   "cell_type": "code",
   "execution_count": null,
   "metadata": {},
   "outputs": [],
   "source": [
    "from pyfitit import *\n",
    "initPyfitit()"
   ]
  },
  {
   "cell_type": "markdown",
   "metadata": {},
   "source": [
    "## Structural information"
   ]
  },
  {
   "cell_type": "code",
   "execution_count": null,
   "metadata": {},
   "outputs": [],
   "source": [
    "def moleculeConstructor(project, params):\n",
    "    projectFolder = getProjectFolder()\n",
    "    \n",
    "#Modify 1.1. Name of the XYZ structure file.\n",
    "    m = Molecule(join(projectFolder,'Fe_terpy.xyz'))\n",
    "    \n",
    "#Modify 1.2. Split molecule into parts.\n",
    "    m.setParts('0','1-9','10-19','20-29','30-38','39-48','49-58')\n",
    "    \n",
    "#Modify 1.3. Define deformations\n",
    "    deformation = 'centralRing1_Shift'\n",
    "    axis = normalize(m.atom[1] - m.atom[0])\n",
    "    m.part[1].shift(axis*params[deformation])\n",
    "    \n",
    "    deformation = 'sideRings1_Shift'\n",
    "    axis = normalize(m.atom[1] - m.atom[0])\n",
    "    m.part[2].shift(axis*params[deformation])\n",
    "    m.part[3].shift(axis*params[deformation])\n",
    "    \n",
    "    deformation = 'sideRings1_Elong'\n",
    "    axis1 = normalize(m.atom[10] - m.atom[0])\n",
    "    axis2 = normalize(m.atom[20] - m.atom[0])\n",
    "    m.part[2].shift(axis1*params[deformation])\n",
    "    m.part[3].shift(axis2*params[deformation])\n",
    "    \n",
    "    deformation = 'centralRing2_Shift'\n",
    "    axis = normalize(m.atom[30] - m.atom[0])\n",
    "    m.part[4].shift(axis*params[deformation])\n",
    "    \n",
    "    deformation = 'sideRings2_Shift'\n",
    "    axis = normalize(m.atom[30] - m.atom[0])\n",
    "    m.part[5].shift(axis*params[deformation])\n",
    "    m.part[6].shift(axis*params[deformation])\n",
    "    \n",
    "    deformation = 'sideRings2_Elong'\n",
    "    axis1 = normalize(m.atom[39] - m.atom[0])\n",
    "    axis2 = normalize(m.atom[49] - m.atom[0])\n",
    "    m.part[5].shift(axis1*params[deformation])\n",
    "    m.part[6].shift(axis2*params[deformation])\n",
    "    \n",
    "    \n",
    "    if not m.checkInteratomicDistance(minDist = 0.8):\n",
    "        print('Warning: there are atoms with distance < minDist')\n",
    "    return m\n"
   ]
  },
  {
   "cell_type": "markdown",
   "metadata": {},
   "source": [
    "## Parameters of the project"
   ]
  },
  {
   "cell_type": "code",
   "execution_count": null,
   "metadata": {},
   "outputs": [],
   "source": [
    "#Modify 1.4. Name of the file with experiment.\n",
    "def projectConstructor(expFile='exp_ground.txt'):\n",
    "    project = Project()\n",
    "    project.name = 'Feterpy'\n",
    "        \n",
    "    filePath = join(getProjectFolder(), expFile)\n",
    "    \n",
    "#Modify 1.5. load experimental data\n",
    "    project.spectrum = readSpectrum(filePath, energyColumn=0, intensityColumn=1, skiprows = 1)\n",
    "\n",
    "#Modify 1.6. Number of spectrum points for machine learning\n",
    "    project.maxSpectrumPoints = 100\n",
    "    \n",
    "#Modify 1.7. Energy interval for fitting\n",
    "    a = 7113; b = 7178\n",
    "    project.intervals = {\n",
    "      'fit_norm': [a, b],\n",
    "      'fit_smooth': [a, b],\n",
    "      'fit_geometry': [a, b],\n",
    "      'plot': [a, b]\n",
    "    }\n",
    "#Modify 1.8. Ranges of deformations\n",
    "    project.geometryParamRanges = {\n",
    "        'centralRing1_Shift': [-0.3, 0.5], \n",
    "        'sideRings1_Shift': [-0.3, 0.5], \n",
    "        'sideRings1_Elong': [-0.3, 0.5], \n",
    "        'centralRing2_Shift': [-0.3, 0.5], \n",
    "        'sideRings2_Shift': [-0.3, 0.5], \n",
    "        'sideRings2_Elong': [-0.3, 0.5]\n",
    "    }\n",
    "#Modify 1.9. Parameters of FDMNES calculation\n",
    "    project.FDMNES_calc = {\n",
    "        'Energy range': '-15 0.02 8 0.1 18 0.5 30 2 54 3 117',\n",
    "        'Green': False,\n",
    "        'radius': 5,\n",
    "    }\n",
    "#Modify 1.10. Default parameters for convolution.\n",
    "    project.FDMNES_smooth = {\n",
    "        'Gamma_hole': 4.23,\n",
    "        'Ecent': 53,\n",
    "        'Elarg': 24,\n",
    "        'Gamma_max': 24,\n",
    "        'Efermi': 7109,\n",
    "        'shift': -152,\n",
    "    }\n",
    "    project.moleculeConstructor = MethodType(moleculeConstructor, project)\n",
    "    return project\n",
    "    "
   ]
  },
  {
   "cell_type": "markdown",
   "metadata": {},
   "source": [
    "==========================================================================================\n",
    "\n",
    "Anything below this line won't be included into the resulting project file. You can write arbitrary code from now on."
   ]
  },
  {
   "cell_type": "markdown",
   "metadata": {},
   "source": [
    "## Check and save"
   ]
  },
  {
   "cell_type": "code",
   "execution_count": null,
   "metadata": {},
   "outputs": [],
   "source": [
    "#Modify 1.11. Check deformations\n",
    "project = projectConstructor()\n",
    "project.constructMoleculesForEdgePoints()"
   ]
  },
  {
   "cell_type": "code",
   "execution_count": null,
   "metadata": {},
   "outputs": [],
   "source": [
    "#Modify 1.12. Save project\n",
    "saveNotebook()"
   ]
  },
  {
   "cell_type": "code",
   "execution_count": null,
   "metadata": {},
   "outputs": [],
   "source": [
    "from pyfitit import *\n",
    "saveAsProject('FeterpyProject.py')"
   ]
  },
  {
   "cell_type": "code",
   "execution_count": null,
   "metadata": {},
   "outputs": [],
   "source": [
    "#Create an XYZ file with arbitrary deformation applied\n",
    "checkProject(projectConstructor)"
   ]
  },
  {
   "cell_type": "code",
   "execution_count": null,
   "metadata": {},
   "outputs": [],
   "source": []
  }
 ],
 "metadata": {
  "kernelspec": {
   "display_name": "Python 3",
   "language": "python",
   "name": "python3"
  },
  "language_info": {
   "codemirror_mode": {
    "name": "ipython",
    "version": 3
   },
   "file_extension": ".py",
   "mimetype": "text/x-python",
   "name": "python",
   "nbconvert_exporter": "python",
   "pygments_lexer": "ipython3",
   "version": "3.6.5"
  }
 },
 "nbformat": 4,
 "nbformat_minor": 2
}
