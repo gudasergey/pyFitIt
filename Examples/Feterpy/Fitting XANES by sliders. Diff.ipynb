{
 "cells": [
  {
   "cell_type": "markdown",
   "metadata": {
    "collapsed": true
   },
   "source": [
    "# Importing experiment data"
   ]
  },
  {
   "cell_type": "code",
   "execution_count": null,
   "metadata": {},
   "outputs": [],
   "source": [
    "%matplotlib notebook\n",
    "from pyfitit import *\n",
    "\n",
    "project = LoadProject('FeterpyProject_old.py', expType = 'highspin-excited')"
   ]
  },
  {
   "cell_type": "markdown",
   "metadata": {},
   "source": [
    "# Importing XANES calculated for support points"
   ]
  },
  {
   "cell_type": "code",
   "execution_count": null,
   "metadata": {},
   "outputs": [],
   "source": [
    "sample = readSample('IHS_500')"
   ]
  },
  {
   "cell_type": "markdown",
   "metadata": {},
   "source": [
    "# Importing base data, which we will substract"
   ]
  },
  {
   "cell_type": "code",
   "execution_count": null,
   "metadata": {},
   "outputs": [],
   "source": [
    "projectBase = LoadProject('FeterpyProject_old.py', expType = 'lowspin-ground')\n",
    "spectrumBase = parseFdmnesFolder('fdmnes_fdm_5')"
   ]
  },
  {
   "cell_type": "markdown",
   "metadata": {},
   "source": [
    "# Fitting XANES by sliders"
   ]
  },
  {
   "cell_type": "code",
   "execution_count": null,
   "metadata": {},
   "outputs": [],
   "source": [
    "fitResult = fitBySliders(sample, project, \n",
    "    diffFrom = {'projectBase':projectBase, 'spectrumBase':spectrumBase, 'purity':1})"
   ]
  },
  {
   "cell_type": "markdown",
   "metadata": {},
   "source": [
    "# Save results to files"
   ]
  },
  {
   "cell_type": "code",
   "execution_count": null,
   "metadata": {},
   "outputs": [],
   "source": [
    "saveToFile('results/params.txt', fitResult.params)\n",
    "fitResult.spectrum.save('results/fitted_xanes.txt')\n",
    "fitResult.spectrumDiff.save('results/fitted_xanes_diff.txt')\n",
    "fitResult.spectrumSmoothed.save('results/fitted_xanes_smoothed.txt')\n",
    "fitResult.spectrumSmoothedDiff.save('results/fitted_xanes_smoothed_diff.txt')\n",
    "fitResult.spectrumExp.save('results/fitted_xanes_exp.txt')\n",
    "fitResult.spectrumExpDiff.save('results/fitted_xanes_exp_diff.txt')\n",
    "fitResult.fig.savefig('results/image.png', dpi=200)"
   ]
  },
  {
   "cell_type": "code",
   "execution_count": null,
   "metadata": {},
   "outputs": [],
   "source": []
  }
 ],
 "metadata": {
  "kernelspec": {
   "display_name": "Python 3",
   "language": "python",
   "name": "python3"
  },
  "language_info": {
   "codemirror_mode": {
    "name": "ipython",
    "version": 3
   },
   "file_extension": ".py",
   "mimetype": "text/x-python",
   "name": "python",
   "nbconvert_exporter": "python",
   "pygments_lexer": "ipython3",
   "version": "3.6.5"
  }
 },
 "nbformat": 4,
 "nbformat_minor": 2
}
