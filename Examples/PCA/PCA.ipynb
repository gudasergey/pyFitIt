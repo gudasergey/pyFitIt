{
 "cells": [
  {
   "cell_type": "code",
   "execution_count": null,
   "metadata": {
    "scrolled": true
   },
   "outputs": [],
   "source": [
    "%matplotlib notebook\n",
    "from pyfitit import *"
   ]
  },
  {
   "cell_type": "markdown",
   "metadata": {},
   "source": [
    "# PyFitIt PCA module"
   ]
  },
  {
   "cell_type": "markdown",
   "metadata": {},
   "source": [
    "## Import the Data file and Plot it"
   ]
  },
  {
   "cell_type": "markdown",
   "metadata": {},
   "source": [
    "Import the data file and plot it. The data file must be composed by an initial column representing the energy followed by the related spectral columns.\n",
    "Warning: each spectrum must have the same length (i.e. the same number of points) of the energy column."
   ]
  },
  {
   "cell_type": "code",
   "execution_count": null,
   "metadata": {
    "scrolled": true
   },
   "outputs": [],
   "source": [
    "dataFileBrowser = openFile('PdHC.dat')"
   ]
  },
  {
   "cell_type": "code",
   "execution_count": null,
   "metadata": {},
   "outputs": [],
   "source": [
    "fileName = dataFileBrowser.chosenFileName\n",
    "data = np.loadtxt(fileName)\n",
    "energy=data[:,0]\n",
    "data=np.delete(data,0,1)\n",
    "plot_data(energy,data)"
   ]
  },
  {
   "cell_type": "markdown",
   "metadata": {},
   "source": [
    "## Calculation (SVD)"
   ]
  },
  {
   "cell_type": "markdown",
   "metadata": {},
   "source": [
    "This function returns the the eigenvalues of the covariance matrix associated to the input dataset and its principal components (PCs). These arrays will be used for the calculation of the stastistical parameters used to identify the correct number of pure species present in the data mixture."
   ]
  },
  {
   "cell_type": "code",
   "execution_count": null,
   "metadata": {},
   "outputs": [],
   "source": [
    "principal_components,l = calcSVD(data)\n",
    "print(calcSVD(data))"
   ]
  },
  {
   "cell_type": "markdown",
   "metadata": {},
   "source": [
    "## Statistical Parameters"
   ]
  },
  {
   "cell_type": "markdown",
   "metadata": {},
   "source": [
    "Calculation of the statistical estimators used for the identification of the correct number (i.e. not associated to the noise contribution) of pure species characterizing the acquired data mixture."
   ]
  },
  {
   "cell_type": "code",
   "execution_count": null,
   "metadata": {
    "scrolled": true
   },
   "outputs": [],
   "source": [
    "statistic, pc = MalinowskyParameters(data, l)\n",
    "statistic # Table of Statistichal Parameters."
   ]
  },
  {
   "cell_type": "markdown",
   "metadata": {},
   "source": [
    "## Save Statisical Parameters"
   ]
  },
  {
   "cell_type": "markdown",
   "metadata": {},
   "source": [
    "The eigenvalues of the data covariance matrix (l) and the statistical parameters (statistic) calculated in the above cell are saved."
   ]
  },
  {
   "cell_type": "code",
   "execution_count": null,
   "metadata": {},
   "outputs": [],
   "source": [
    "saveToFile('results/statistic.dat', statistic) # IND, F-test and IE factor.\n",
    "saveToFile('results/eigenvalues.dat',l) # Eigenvalues of the Covariance matrix."
   ]
  },
  {
   "cell_type": "markdown",
   "metadata": {},
   "source": [
    "## Graphs: Statistical Analysis"
   ]
  },
  {
   "cell_type": "markdown",
   "metadata": {},
   "source": [
    "Plot of the statistical parameters. In the Scree Plot, the correct number of pure spectra must be identified at the level of the elbow of the curve. For the IND and IE test, the number of pure spectra should correspond to the minimum of these functions. Finally, for the F-Test, fixing a level of acceptance of 5%, the number of points located over this value correspond to the number of pure spectra in the dataset. "
   ]
  },
  {
   "cell_type": "code",
   "execution_count": null,
   "metadata": {
    "scrolled": false
   },
   "outputs": [],
   "source": [
    "plotTestStatistic(statistic, pc, l)"
   ]
  },
  {
   "cell_type": "markdown",
   "metadata": {},
   "source": [
    "## Number of PCs suggested by IND-factor and F-Test"
   ]
  },
  {
   "cell_type": "markdown",
   "metadata": {},
   "source": [
    "Number of \"pure\" spectra suggested by IND (that seems to be more accurate than IE , see Malinowsky 1977) and F-Test."
   ]
  },
  {
   "cell_type": "code",
   "execution_count": null,
   "metadata": {
    "scrolled": true
   },
   "outputs": [],
   "source": [
    "recommendPCnumber(statistic)"
   ]
  },
  {
   "cell_type": "markdown",
   "metadata": {},
   "source": [
    "## Graphs: Abstract Components"
   ]
  },
  {
   "cell_type": "markdown",
   "metadata": {},
   "source": [
    "Plot of the Abstract Components vs the energy. Clicking on the radio-button \"Normalized\", each spectrum is normalized for the area under the curve, making the comparison with other spectra more reliable. "
   ]
  },
  {
   "cell_type": "code",
   "execution_count": null,
   "metadata": {},
   "outputs": [],
   "source": [
    "plotPCAcomponents(energy, principal_components)"
   ]
  },
  {
   "cell_type": "markdown",
   "metadata": {},
   "source": [
    "## Graphs: Experimental vs Reconstructed spectra"
   ]
  },
  {
   "cell_type": "markdown",
   "metadata": {},
   "source": [
    "This module allows to compare each experimental spectrum with the related reconstruction. The reconstructed spectrum is a function the number of components chosen. In the inset it is represented the plot of the residuals associated to the reconstruction procedure. If the correct number of PCs has been chosen properly, the experimental curve should be adequately fitted by the reconstructed one. At the same time, the residual plot should show a trend without any particular features (i.e. oscillatory/noisy trend)."
   ]
  },
  {
   "cell_type": "code",
   "execution_count": null,
   "metadata": {},
   "outputs": [],
   "source": [
    "PCAcomparison(energy,data)"
   ]
  },
  {
   "cell_type": "markdown",
   "metadata": {},
   "source": [
    "## Data Interpolation"
   ]
  },
  {
   "cell_type": "markdown",
   "metadata": {},
   "source": [
    "By this function, user (modifying the energy step between two consecutive points by the \"step\" parameter) can increase the number of points for each spectrum in the experimental dataset. This step is foundamental for the data normalization procedure (described below), in fact, higher is the number of point in each spectrum, more accurate will be the data normalization. On the other hand, if the user wish to use the original energy range, this step can be skipped."
   ]
  },
  {
   "cell_type": "code",
   "execution_count": null,
   "metadata": {},
   "outputs": [],
   "source": [
    "energy,data=interpolation(energy,data,step=0.05) "
   ]
  },
  {
   "cell_type": "markdown",
   "metadata": {},
   "source": [
    "## Data Normalization"
   ]
  },
  {
   "cell_type": "markdown",
   "metadata": {},
   "source": [
    "This step is required in order to perform the following \"Target Transformation\" module. Each experimental spectrum is normalized using this equation:\n",
    "$$\\sigma=\\sqrt{\\frac{1}{E_{2}-E_{1}}\\int_{E_{1}}^{E_{2}}\\mu(E)^{2}dE}$$ Where $E_{1}$ and $E_{2}$ are respectively the initial and last energy values of the energy column while $\\mu(E)$ represents the XANES values for each spectral column."
   ]
  },
  {
   "cell_type": "code",
   "execution_count": null,
   "metadata": {},
   "outputs": [],
   "source": [
    "data=normalization(energy,data)"
   ]
  },
  {
   "cell_type": "markdown",
   "metadata": {},
   "source": [
    "## Target Transformation"
   ]
  },
  {
   "cell_type": "markdown",
   "metadata": {},
   "source": [
    "The \"Target Transformation\" module allow to retrieve, from the experimental dataset, a set of pure spectra and their related concentration profiles having a well defined physical/chemical meaning. This technique foresees the usage of a transformation matrix whose elements can be directly modified by user moving some sliders. Once that the number of PCs (i.e. the number of pure species in the dataset) has been identified, two working configuration are available. \"Case: 1\": The \"pure\" spectral profiles are not normalized. The first or the last spectrum (or both) of the experimental dataset can be fixed, reducing in this way the number of sliders that can be moved. \"Case: 2\" imposes the normalization of the \"pure\" spectral profiles. Moreover, as for \"Case:1\" the first or the last (or both) experimental spectra of the dataset can be fixed.    "
   ]
  },
  {
   "cell_type": "code",
   "execution_count": null,
   "metadata": {},
   "outputs": [],
   "source": [
    "pcaResult = targetTransformationPCA(energy, data,sign=-1,min_val=-5,max_val=5,step_val=0.05)"
   ]
  },
  {
   "cell_type": "markdown",
   "metadata": {},
   "source": [
    "## Save Data and Images"
   ]
  },
  {
   "cell_type": "markdown",
   "metadata": {},
   "source": [
    "These commands allows to save the \"pure\" spectral profiles and their related concentrations obtained from the \"Target Transformation\" module."
   ]
  },
  {
   "cell_type": "code",
   "execution_count": null,
   "metadata": {},
   "outputs": [],
   "source": [
    "saveToFile('results/params.txt', pcaResult.params)\n",
    "pcaResult.fig.savefig('results/image.png', dpi=200)\n",
    "saveToFile('results/Pure Spectra.txt', pcaResult.pureSpectra)\n",
    "saveToFile('results/Pure Concentrations.txt', pcaResult.pureConcentrations)"
   ]
  },
  {
   "cell_type": "code",
   "execution_count": null,
   "metadata": {},
   "outputs": [],
   "source": []
  }
 ],
 "metadata": {
  "kernelspec": {
   "display_name": "Python 3",
   "language": "python",
   "name": "python3"
  },
  "language_info": {
   "codemirror_mode": {
    "name": "ipython",
    "version": 3
   },
   "file_extension": ".py",
   "mimetype": "text/x-python",
   "name": "python",
   "nbconvert_exporter": "python",
   "pygments_lexer": "ipython3",
   "version": "3.6.5"
  }
 },
 "nbformat": 4,
 "nbformat_minor": 2
}
