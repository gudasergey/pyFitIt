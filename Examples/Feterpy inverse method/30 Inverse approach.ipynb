{
 "cells": [
  {
   "cell_type": "markdown",
   "metadata": {
    "collapsed": true
   },
   "source": [
    "## 3.1 Import libraries, project file and experiment"
   ]
  },
  {
   "cell_type": "code",
   "execution_count": null,
   "metadata": {},
   "outputs": [],
   "source": [
    "%matplotlib inline\n",
    "from pyfitit import *\n",
    "\n",
    "project = loadProject('FeterpyProject.py', expFile = 'exp_ground.txt')"
   ]
  },
  {
   "cell_type": "markdown",
   "metadata": {},
   "source": [
    "## 3.2 Import training set"
   ]
  },
  {
   "cell_type": "code",
   "execution_count": null,
   "metadata": {},
   "outputs": [],
   "source": [
    "sample = readSample('IHS_729')\n",
    "sampleCompare = readSample('line_200')"
   ]
  },
  {
   "cell_type": "markdown",
   "metadata": {},
   "source": [
    "## 3.3 Compare different machine learning methods\n",
    "**sampleTest** should be line-sample\n",
    "\n",
    "Spectra are smoothed **before** training and prediction"
   ]
  },
  {
   "cell_type": "code",
   "execution_count": null,
   "metadata": {
    "scrolled": false
   },
   "outputs": [],
   "source": [
    "compareDifferentInverseMethods(sampleTrain = sample, sampleTest = sampleCompare, \n",
    "    energyPoint=7143, geometryParam='centralRing1_Shift',\n",
    "    project=project, folderToSaveResult = 'results/inverseMethodsCompare')"
   ]
  },
  {
   "cell_type": "markdown",
   "metadata": {},
   "source": [
    "## 3.4 Construct the inverse estimator"
   ]
  },
  {
   "cell_type": "code",
   "execution_count": null,
   "metadata": {},
   "outputs": [],
   "source": [
    "inverseEstimator = constructInverseEstimator('RBF', project, project.FDMNES_smooth, \n",
    "                CVcount=4, folderToSaveCVresult='results/inverseEstimator_CVresult')"
   ]
  },
  {
   "cell_type": "markdown",
   "metadata": {},
   "source": [
    "## 3.5 Train the estimator"
   ]
  },
  {
   "cell_type": "code",
   "execution_count": null,
   "metadata": {
    "scrolled": false
   },
   "outputs": [],
   "source": [
    "inverseEstimator.fit(sample)"
   ]
  },
  {
   "cell_type": "markdown",
   "metadata": {},
   "source": [
    "## 3.6 Start automatic fit"
   ]
  },
  {
   "cell_type": "code",
   "execution_count": null,
   "metadata": {
    "scrolled": false
   },
   "outputs": [],
   "source": [
    "# plotContourMaps = 'all' or list of graph axis name lists: [['param1', 'param2'], ['param3'], ['param4', 'param5']]\n",
    "# contourMapCalcMethod = 'fast' or 'thorough'\n",
    "bestMin = inverseMethod.findGlobalL2NormMinimum(5, inverseEstimator, \n",
    "                        folderToSaveResult = 'results/inverseMethodResults', \n",
    "                        plotContourMaps='all', contourMapCalcMethod='fast')"
   ]
  },
  {
   "cell_type": "code",
   "execution_count": null,
   "metadata": {},
   "outputs": [],
   "source": []
  }
 ],
 "metadata": {
  "kernelspec": {
   "display_name": "Python 3 (ipykernel)",
   "language": "python",
   "name": "python3"
  },
  "language_info": {
   "codemirror_mode": {
    "name": "ipython",
    "version": 3
   },
   "file_extension": ".py",
   "mimetype": "text/x-python",
   "name": "python",
   "nbconvert_exporter": "python",
   "pygments_lexer": "ipython3",
   "version": "3.9.12"
  }
 },
 "nbformat": 4,
 "nbformat_minor": 2
}
