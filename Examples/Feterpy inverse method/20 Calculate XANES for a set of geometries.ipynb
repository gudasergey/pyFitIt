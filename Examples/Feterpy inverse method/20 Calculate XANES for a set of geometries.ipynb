{
 "cells": [
  {
   "cell_type": "markdown",
   "metadata": {},
   "source": [
    "## 2.1 Import libraries and project file"
   ]
  },
  {
   "cell_type": "code",
   "execution_count": 2,
   "metadata": {},
   "outputs": [
    {
     "name": "stderr",
     "output_type": "stream",
     "text": [
      "/opt/anaconda/lib/python3.7/site-packages/sklearn/utils/deprecation.py:144: FutureWarning: The sklearn.utils.testing module is  deprecated in version 0.22 and will be removed in version 0.24. The corresponding classes / functions should instead be imported from sklearn.utils. Anything that cannot be imported from sklearn.utils is now part of the private API.\n",
      "  warnings.warn(message, FutureWarning)\n"
     ]
    },
    {
     "data": {
      "text/html": [
       "<style>\n",
       "    .container { width:100% !important; }\n",
       "    .output_area {display:inline-block !important; }\n",
       "    .cell > .output_wrapper > .output {margin-left: 14ex;}\n",
       "    .out_prompt_overlay.prompt {min-width: 14ex;}\n",
       "    .fitBySlidersOutput {flex-direction:row !important; }\n",
       "    /*.fitBySlidersOutput .p-Widget.jupyter-widgets-output-area.output_wrapper {display:none} - прячет ошибки*/\n",
       "    .fitBySlidersOutput div.output_subarea {max-width: inherit}\n",
       "    .fitBySlidersExafsOutput {flex-direction:row !important; }\n",
       "    /*.fitBySlidersExafsOutput .p-Widget.jupyter-widgets-output-area.output_wrapper {display:none} - прячет ошибки*/\n",
       "    .fitBySlidersExafsOutput div.output_subarea {max-width: inherit}\n",
       "    .pcaOutput { display:block; }\n",
       "    .pcaOutput div.output_subarea {max-width: inherit}\n",
       "    .pcaOutput .output_subarea .widget-hbox { place-content: initial!important; }\n",
       "    .pcaOutput > .output_area:nth-child(2) {float:left !important; }\n",
       "    .pcaOutput > .output_area:nth-child(3) {display:block !important; }\n",
       "    .pcaOutput > .output_area:nth-child(4) { /* width:100%; */ }\n",
       "    .status { white-space: pre; }\n",
       "\n",
       "    .fileBrowser {margin-left:14ex; display:block; }\n",
       "    .fileBrowser div.p-Panel {display:block; }\n",
       "    .fileBrowser button.folder { font-weight:bold; }\n",
       "    .fileBrowser button.parentFolder { font-size:200%; }\n",
       "\n",
       "    .widget-inline-hbox .widget-label {width:auto}\n",
       "    </style>"
      ],
      "text/plain": [
       "<IPython.core.display.HTML object>"
      ]
     },
     "metadata": {},
     "output_type": "display_data"
    },
    {
     "data": {
      "text/html": [
       "<style>\n",
       "    .container { width:100% !important; }\n",
       "    .output_area {display:inline-block !important; }\n",
       "    .cell > .output_wrapper > .output {margin-left: 14ex;}\n",
       "    .out_prompt_overlay.prompt {min-width: 14ex;}\n",
       "    .fitBySlidersOutput {flex-direction:row !important; }\n",
       "    /*.fitBySlidersOutput .p-Widget.jupyter-widgets-output-area.output_wrapper {display:none} - прячет ошибки*/\n",
       "    .fitBySlidersOutput div.output_subarea {max-width: inherit}\n",
       "    .fitBySlidersExafsOutput {flex-direction:row !important; }\n",
       "    /*.fitBySlidersExafsOutput .p-Widget.jupyter-widgets-output-area.output_wrapper {display:none} - прячет ошибки*/\n",
       "    .fitBySlidersExafsOutput div.output_subarea {max-width: inherit}\n",
       "    .pcaOutput { display:block; }\n",
       "    .pcaOutput div.output_subarea {max-width: inherit}\n",
       "    .pcaOutput .output_subarea .widget-hbox { place-content: initial!important; }\n",
       "    .pcaOutput > .output_area:nth-child(2) {float:left !important; }\n",
       "    .pcaOutput > .output_area:nth-child(3) {display:block !important; }\n",
       "    .pcaOutput > .output_area:nth-child(4) { /* width:100%; */ }\n",
       "    .status { white-space: pre; }\n",
       "\n",
       "    .fileBrowser {margin-left:14ex; display:block; }\n",
       "    .fileBrowser div.p-Panel {display:block; }\n",
       "    .fileBrowser button.folder { font-weight:bold; }\n",
       "    .fileBrowser button.parentFolder { font-size:200%; }\n",
       "\n",
       "    .widget-inline-hbox .widget-label {width:auto}\n",
       "    </style>"
      ],
      "text/plain": [
       "<IPython.core.display.HTML object>"
      ]
     },
     "metadata": {},
     "output_type": "display_data"
    },
    {
     "data": {
      "text/html": [
       "<style>\n",
       "    .container { width:100% !important; }\n",
       "    .output_area {display:inline-block !important; }\n",
       "    .cell > .output_wrapper > .output {margin-left: 14ex;}\n",
       "    .out_prompt_overlay.prompt {min-width: 14ex;}\n",
       "    .fitBySlidersOutput {flex-direction:row !important; }\n",
       "    /*.fitBySlidersOutput .p-Widget.jupyter-widgets-output-area.output_wrapper {display:none} - прячет ошибки*/\n",
       "    .fitBySlidersOutput div.output_subarea {max-width: inherit}\n",
       "    .fitBySlidersExafsOutput {flex-direction:row !important; }\n",
       "    /*.fitBySlidersExafsOutput .p-Widget.jupyter-widgets-output-area.output_wrapper {display:none} - прячет ошибки*/\n",
       "    .fitBySlidersExafsOutput div.output_subarea {max-width: inherit}\n",
       "    .pcaOutput { display:block; }\n",
       "    .pcaOutput div.output_subarea {max-width: inherit}\n",
       "    .pcaOutput .output_subarea .widget-hbox { place-content: initial!important; }\n",
       "    .pcaOutput > .output_area:nth-child(2) {float:left !important; }\n",
       "    .pcaOutput > .output_area:nth-child(3) {display:block !important; }\n",
       "    .pcaOutput > .output_area:nth-child(4) { /* width:100%; */ }\n",
       "    .status { white-space: pre; }\n",
       "\n",
       "    .fileBrowser {margin-left:14ex; display:block; }\n",
       "    .fileBrowser div.p-Panel {display:block; }\n",
       "    .fileBrowser button.folder { font-weight:bold; }\n",
       "    .fileBrowser button.parentFolder { font-size:200%; }\n",
       "\n",
       "    .widget-inline-hbox .widget-label {width:auto}\n",
       "    </style>"
      ],
      "text/plain": [
       "<IPython.core.display.HTML object>"
      ]
     },
     "metadata": {},
     "output_type": "display_data"
    }
   ],
   "source": [
    "import sys\n",
    "sys.path.append(\"../../..\")\n",
    "from pyfitit import *\n",
    "project = loadProject('FeterpyProject.py')"
   ]
  },
  {
   "cell_type": "markdown",
   "metadata": {},
   "source": [
    "## 2.2 Generate input files for XANES training set"
   ]
  },
  {
   "cell_type": "code",
   "execution_count": 3,
   "metadata": {},
   "outputs": [
    {
     "ename": "NameError",
     "evalue": "name 'sampleAdaptively' is not defined",
     "output_type": "error",
     "traceback": [
      "\u001b[0;31m---------------------------------------------------------------------------\u001b[0m",
      "\u001b[0;31mNameError\u001b[0m                                 Traceback (most recent call last)",
      "\u001b[0;32m<ipython-input-3-684ab26184f6>\u001b[0m in \u001b[0;36m<module>\u001b[0;34m\u001b[0m\n\u001b[1;32m      1\u001b[0m \u001b[0mfolder\u001b[0m \u001b[0;34m=\u001b[0m \u001b[0;34m'sample'\u001b[0m\u001b[0;34m\u001b[0m\u001b[0;34m\u001b[0m\u001b[0m\n\u001b[0;32m----> 2\u001b[0;31m sampleAdaptively(paramRanges=project.geometryParamRanges, \n\u001b[0m\u001b[1;32m      3\u001b[0m                  \u001b[0mmoleculeConstructor\u001b[0m\u001b[0;34m=\u001b[0m\u001b[0mproject\u001b[0m\u001b[0;34m.\u001b[0m\u001b[0mmoleculeConstructor\u001b[0m\u001b[0;34m,\u001b[0m\u001b[0;34m\u001b[0m\u001b[0;34m\u001b[0m\u001b[0m\n\u001b[1;32m      4\u001b[0m                  \u001b[0mmaxError\u001b[0m\u001b[0;34m=\u001b[0m\u001b[0;36m0.15\u001b[0m\u001b[0;34m,\u001b[0m\u001b[0;34m\u001b[0m\u001b[0;34m\u001b[0m\u001b[0m\n\u001b[1;32m      5\u001b[0m                  \u001b[0mspectrCalcParams\u001b[0m\u001b[0;34m=\u001b[0m\u001b[0mproject\u001b[0m\u001b[0;34m.\u001b[0m\u001b[0mFDMNES_calc\u001b[0m\u001b[0;34m,\u001b[0m\u001b[0;34m\u001b[0m\u001b[0;34m\u001b[0m\u001b[0m\n",
      "\u001b[0;31mNameError\u001b[0m: name 'sampleAdaptively' is not defined"
     ]
    }
   ],
   "source": [
    "folder = 'sample'\n",
    "sampleAdaptively(paramRanges=project.geometryParamRanges, \n",
    "                 moleculeConstructor=project.moleculeConstructor,\n",
    "                 maxError=0.15,\n",
    "                 spectrCalcParams=project.FDMNES_calc,\n",
    "                 spectralProgram='fdmnes',\n",
    "                 workingFolder=folder,\n",
    "                 runType='local',\n",
    "                 calcSampleInParallel=1,\n",
    "                 outputFolder=folder+'_result')"
   ]
  },
  {
   "cell_type": "markdown",
   "metadata": {},
   "source": [
    "## 2.3 Generate input files for supplementary XANES training set (compare different machine learning methods)"
   ]
  },
  {
   "cell_type": "code",
   "execution_count": null,
   "metadata": {
    "scrolled": false
   },
   "outputs": [],
   "source": [
    "# folderCompare = 'sample_compareMethods'\n",
    "# generateInputFiles(project.geometryParamRanges, project.moleculeConstructor, sampleCount=20, \n",
    "#    method='line', spectralProgram='fdmnes', spectrCalcParams = project.FDMNES_calc, \n",
    "#    folder=folderCompare,\n",
    "#    lineEdges={'start':{'centralRing1_Shift': 0, 'sideRings1_Shift': 0, 'sideRings1_Elong': 0, \n",
    "#                        'centralRing2_Shift': 0, 'sideRings2_Shift': 0, 'sideRings2_Elong': 0}, \n",
    "#               'end':{'centralRing1_Shift': -0.3, 'sideRings1_Shift': 0.5, 'sideRings1_Elong': 0.5, \n",
    "#                      'centralRing2_Shift': 0.5, 'sideRings2_Shift': -0.3, 'sideRings2_Elong': -0.3}})"
   ]
  },
  {
   "cell_type": "code",
   "execution_count": null,
   "metadata": {},
   "outputs": [],
   "source": [
    "saveNotebook()"
   ]
  },
  {
   "cell_type": "markdown",
   "metadata": {},
   "source": [
    "## 2.4 Save this file as python script and execute remotely on cluster."
   ]
  },
  {
   "cell_type": "code",
   "execution_count": null,
   "metadata": {},
   "outputs": [],
   "source": [
    "saveAsScript('sample.py')"
   ]
  },
  {
   "cell_type": "markdown",
   "metadata": {},
   "source": [
    "## 2.5 Attention. Start xanes calculation on local computer (can be too long)"
   ]
  },
  {
   "cell_type": "code",
   "execution_count": null,
   "metadata": {},
   "outputs": [],
   "source": [
    "# calcSpectra(spectralProgram='fdmnes', runType='local', calcSampleInParallel=4, folder=folder)\n",
    "# calcSpectra(spectralProgram='fdmnes', runType='local', calcSampleInParallel=4, folder=folderCompare)"
   ]
  },
  {
   "cell_type": "markdown",
   "metadata": {},
   "source": [
    "## 2.6 Collect results into two files: params.txt and xanes.txt"
   ]
  },
  {
   "cell_type": "code",
   "execution_count": null,
   "metadata": {},
   "outputs": [],
   "source": [
    "# collectResults(folder=folder, outputFolder=folder+'_result')\n",
    "# collectResults(folder=folderCompare, outputFolder=folderCompare+'_result')"
   ]
  }
 ],
 "metadata": {
  "kernelspec": {
   "display_name": "Python 3",
   "language": "python",
   "name": "python3"
  },
  "language_info": {
   "codemirror_mode": {
    "name": "ipython",
    "version": 3
   },
   "file_extension": ".py",
   "mimetype": "text/x-python",
   "name": "python",
   "nbconvert_exporter": "python",
   "pygments_lexer": "ipython3",
   "version": "3.7.6"
  }
 },
 "nbformat": 4,
 "nbformat_minor": 2
}
