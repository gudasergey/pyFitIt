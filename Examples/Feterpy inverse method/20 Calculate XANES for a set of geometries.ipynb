{
 "cells": [
  {
   "cell_type": "markdown",
   "metadata": {},
   "source": [
    "## 2.1 Import libraries and project file"
   ]
  },
  {
   "cell_type": "code",
   "execution_count": null,
   "metadata": {},
   "outputs": [],
   "source": [
    "from pyfitit import *\n",
    "project = loadProject('FeterpyProject.py')"
   ]
  },
  {
   "cell_type": "markdown",
   "metadata": {},
   "source": [
    "## 2.2 Generate input files for XANES training set"
   ]
  },
  {
   "cell_type": "code",
   "execution_count": null,
   "metadata": {
    "scrolled": false
   },
   "outputs": [],
   "source": [
    "smoothParams = project.FDMNES_smooth\n",
    "\n",
    "smoothConfig = {'smoothParams': smoothParams, 'smoothType': 'fdmnes', 'expSpectrum': project.spectrum, \n",
    "                'fitNormInterval': project.intervals['fit_norm']}\n",
    "\n",
    "sampleAdaptively(paramRanges=project.geometryParamRanges, \n",
    "         moleculeConstructor=project.moleculeConstructor, \n",
    "         spectrCalcParams=project.FDMNES_calc,\n",
    "         maxError=0.01,\n",
    "         spectralProgram='fdmnes',\n",
    "         samplePreprocessor=smoothConfig,\n",
    "         workingFolder='sample_calc', \n",
    "         seed=0,\n",
    "         outputFolder='sample_result',\n",
    "         runConfiguration={'runType':'local', 'calcSampleInParallel':2, 'recalculateErrorsAttemptCount':1})"
   ]
  },
  {
   "cell_type": "markdown",
   "metadata": {},
   "source": [
    "## 2.3 Generate input files for supplementary XANES training set (compare different machine learning methods)"
   ]
  },
  {
   "cell_type": "code",
   "execution_count": null,
   "metadata": {
    "scrolled": false
   },
   "outputs": [],
   "source": [
    "folderCompare = 'sample_compareMethods'\n",
    "generateInputFiles(project.geometryParamRanges, project.moleculeConstructor, sampleCount=20, \n",
    "   method='line', spectralProgram='fdmnes', spectrCalcParams = project.FDMNES_calc, \n",
    "   folder=folderCompare,\n",
    "   lineEdges={'start':{'centralRing1_Shift': 0, 'sideRings1_Shift': 0, 'sideRings1_Elong': 0, \n",
    "                       'centralRing2_Shift': 0, 'sideRings2_Shift': 0, 'sideRings2_Elong': 0}, \n",
    "              'end':{'centralRing1_Shift': -0.3, 'sideRings1_Shift': 0.5, 'sideRings1_Elong': 0.5, \n",
    "                     'centralRing2_Shift': 0.5, 'sideRings2_Shift': -0.3, 'sideRings2_Elong': -0.3}})\n",
    "\n",
    "#  Attention. Start xanes calculation on local computer (can be too long)\n",
    "calcSpectra(spectralProgram='fdmnes', runType='local', calcSampleInParallel=4, folder=folderCompare)\n",
    "\n",
    "# Collect results into two files: params.txt and spectra.txt\n",
    "collectResults(folder=folderCompare, outputFolder=folderCompare+'_result')"
   ]
  },
  {
   "cell_type": "code",
   "execution_count": null,
   "metadata": {},
   "outputs": [],
   "source": [
    "saveNotebook()"
   ]
  },
  {
   "cell_type": "markdown",
   "metadata": {},
   "source": [
    "## 2.4 Save this file as python script and execute remotely on cluster."
   ]
  },
  {
   "cell_type": "code",
   "execution_count": null,
   "metadata": {},
   "outputs": [],
   "source": [
    "saveAsScript('sample.py')"
   ]
  },
  {
   "cell_type": "code",
   "execution_count": null,
   "metadata": {},
   "outputs": [],
   "source": []
  }
 ],
 "metadata": {
  "kernelspec": {
   "display_name": "Python 3 (ipykernel)",
   "language": "python",
   "name": "python3"
  },
  "language_info": {
   "codemirror_mode": {
    "name": "ipython",
    "version": 3
   },
   "file_extension": ".py",
   "mimetype": "text/x-python",
   "name": "python",
   "nbconvert_exporter": "python",
   "pygments_lexer": "ipython3",
   "version": "3.9.12"
  }
 },
 "nbformat": 4,
 "nbformat_minor": 2
}
