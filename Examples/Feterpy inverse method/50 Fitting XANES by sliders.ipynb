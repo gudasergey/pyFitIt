{
 "cells": [
  {
   "cell_type": "markdown",
   "metadata": {
    "collapsed": true
   },
   "source": [
    "# 5.1 Importing experiment data"
   ]
  },
  {
   "cell_type": "code",
   "execution_count": null,
   "metadata": {},
   "outputs": [],
   "source": [
    "%matplotlib notebook\n",
    "import sys\n",
    "sys.path.append(\"../../..\")\n",
    "from pyfitit import *\n",
    "\n",
    "project = loadProject('FeterpyProject.py', expFile = 'exp_excited.txt')"
   ]
  },
  {
   "cell_type": "markdown",
   "metadata": {},
   "source": [
    "# 5.2 Importing XANES calculated for training set"
   ]
  },
  {
   "cell_type": "code",
   "execution_count": null,
   "metadata": {},
   "outputs": [],
   "source": [
    "sample = readSample('IHS_729')"
   ]
  },
  {
   "cell_type": "markdown",
   "metadata": {},
   "source": [
    "# 5.3 Fitting XANES by sliders"
   ]
  },
  {
   "cell_type": "code",
   "execution_count": null,
   "metadata": {
    "scrolled": false
   },
   "outputs": [],
   "source": [
    "def addExtra(energy, intensity, params, context):\n",
    "    sp = parseFdmnesFolder('fdmnes_ground')\n",
    "    smoothed, norm = smoothInterpNorm(smooth_params=context.getTransformParams('fdmnes smooth'), \n",
    "                                spectrum=sp, smoothType='fdmnes', \n",
    "                                exp_spectrum=context.expSpectrum, \n",
    "                                fit_norm_interval=context.project.intervals['fit_norm']) \n",
    "    context.plotData['ground'] = {'type': 'default', 'xData':smoothed.energy, 'yData':smoothed.intensity, \n",
    "                                        'label':'ground', 'color':'red'}\n",
    "    return energy, intensity\n",
    "\n",
    "fitResult = fitBySliders(sample=sample, project=project, \n",
    "             theoryProcessingPipeline=['approximation', 'plot current normalized', \n",
    "                                       'fdmnes smooth', 'L2 norm', addExtra])"
   ]
  },
  {
   "cell_type": "markdown",
   "metadata": {},
   "source": [
    "# 5.4 Save results"
   ]
  },
  {
   "cell_type": "code",
   "execution_count": null,
   "metadata": {},
   "outputs": [],
   "source": [
    "fitResult.saveAllData('result of sliders fit')"
   ]
  },
  {
   "cell_type": "code",
   "execution_count": null,
   "metadata": {},
   "outputs": [],
   "source": []
  }
 ],
 "metadata": {
  "kernelspec": {
   "display_name": "Python 3",
   "language": "python",
   "name": "python3"
  },
  "language_info": {
   "codemirror_mode": {
    "name": "ipython",
    "version": 3
   },
   "file_extension": ".py",
   "mimetype": "text/x-python",
   "name": "python",
   "nbconvert_exporter": "python",
   "pygments_lexer": "ipython3",
   "version": "3.7.6"
  }
 },
 "nbformat": 4,
 "nbformat_minor": 2
}
