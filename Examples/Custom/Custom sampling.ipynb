{
 "cells": [
  {
   "cell_type": "markdown",
   "metadata": {},
   "source": [
    "# Custom sampling\n",
    "\n",
    "You can define your own sampling procedure, using your own software for data calculation. Here you can find an example how to start adaptive sampling with your own functions\n",
    "\n",
    "## Import libraries"
   ]
  },
  {
   "cell_type": "code",
   "execution_count": null,
   "metadata": {},
   "outputs": [],
   "source": [
    "from pyfitit import *"
   ]
  },
  {
   "cell_type": "markdown",
   "metadata": {},
   "source": [
    "## Define the input files generator\n",
    "\n",
    "Its arguments: params dictionary and folder to run calculations inside it"
   ]
  },
  {
   "cell_type": "code",
   "execution_count": null,
   "metadata": {
    "scrolled": false
   },
   "outputs": [],
   "source": [
    "def moleculeConstructor(params):\n",
    "    mol = Molecule('../Feterpy inverse method/Fe_terpy.xyz')\n",
    "    mol.atom[1,1] -= params['shift1']\n",
    "    mol.atom[30,1] += params['shift2']\n",
    "    return mol\n",
    "\n",
    "def generateInput(params, folder):\n",
    "    fdmnes.generateInput(molecule=moleculeConstructor(params), energyRange='-15 0.1 8 0.5 18 1 30 4 54 6 117', \n",
    "                         Green=True, folder=folder)"
   ]
  },
  {
   "cell_type": "markdown",
   "metadata": {},
   "source": [
    "## Define function to calculate folder"
   ]
  },
  {
   "cell_type": "code",
   "execution_count": null,
   "metadata": {},
   "outputs": [],
   "source": [
    "def run(folder):\n",
    "    exe = fdmnes.findFDMNES()\n",
    "    output, returncode = utils.runCommand(exe, folder, outputTxtFile='output.txt')\n",
    "    if returncode != 0:\n",
    "        raise Exception('Error while executing \"'+exe+'\" command:\\n'+output)\n",
    "    return output"
   ]
  },
  {
   "cell_type": "markdown",
   "metadata": {},
   "source": [
    "## Define results parser\n",
    "\n",
    "It should return one Spectrum object or dict of spectra {name:spectrum}"
   ]
  },
  {
   "cell_type": "code",
   "execution_count": null,
   "metadata": {
    "scrolled": false
   },
   "outputs": [],
   "source": [
    "def parseOneFolder(folder):\n",
    "    return parseFdmnesFolder(folder)"
   ]
  },
  {
   "cell_type": "markdown",
   "metadata": {},
   "source": [
    "## Define create DataFrame function\n",
    "\n",
    "Its arguments: allData dict {folder:result of parseOneFolder}, parentFolder, goodFolders - list of relative good folder names\n",
    "\n",
    "The function should return pandas.DataFrame with column names 'e_???' where ??? - energy values corresponding to spectrum intensity values. Or dictionary of such DataFrames\n",
    "\n",
    "If neccessary it can change list goodFolders, than it should return df_spectra, goodFolders, badFolders"
   ]
  },
  {
   "cell_type": "code",
   "execution_count": null,
   "metadata": {},
   "outputs": [],
   "source": [
    "import numpy as np\n",
    "import pandas as pd\n",
    "def createDataframes(allData, parentFolder, goodFolders):\n",
    "    # make common energy\n",
    "    energyCount = np.array([len(allData[folder].x) for folder in goodFolders])\n",
    "    n = np.max(energyCount)\n",
    "    # change goodFolders array because some calculations could be broken\n",
    "    goodFolders = [folder for folder in goodFolders if len(allData[folder].x) == n]\n",
    "    allEnergies = np.array([allData[folder].x for folder in goodFolders])\n",
    "    energies = np.median(allEnergies, axis=0)\n",
    "    energies = np.sort(energies)\n",
    "    spectra = np.zeros([len(goodFolders), energies.size])\n",
    "    for i,d in enumerate(goodFolders):\n",
    "        spectra[i, :] = np.interp(energies, allData[d].x, allData[d].y)\n",
    "    df_spectra = pd.DataFrame(data=spectra, columns=['e_' + str(e) for e in energies])\n",
    "    badFolders = list(set(allData.keys()) - set(goodFolders))\n",
    "    return df_spectra, goodFolders, badFolders"
   ]
  },
  {
   "cell_type": "markdown",
   "metadata": {},
   "source": [
    "## Define sample preprocessor\n",
    "\n",
    "Is applied to y before given it to adaptive sampler, it is also applied before plotting. Is NOT applied before saving sample. It should work for sample and for one spectrum. \n",
    "\n",
    "func(sample)->sample (sample - Sample of output of parseAllFolders)\n",
    "\n",
    "func(spectrum)->spectrum (spectrum - output of parseOneFolder) "
   ]
  },
  {
   "cell_type": "code",
   "execution_count": null,
   "metadata": {},
   "outputs": [],
   "source": [
    "expSpectrum = readSpectrum('../Feterpy inverse method/exp_ground.txt').limit(interval=[7100, 7200])\n",
    "\n",
    "def samplePreprocessor(sample):\n",
    "    smoothParams = {'Gamma_hole': 4.23, 'Ecent': 53, 'Elarg': 24, 'Gamma_max': 24, 'Efermi': 7115, \n",
    "                    'shift': 136, 'norm':0.0323}\n",
    "\n",
    "    def spectrumPreprocessor(spectrum):\n",
    "        smoothed = smoothInterpNorm(smoothParams, spectrum, smoothType='fdmnes', expSpectrum=expSpectrum)[0]\n",
    "        return smoothed\n",
    "\n",
    "    if isinstance(sample, ML.Sample):\n",
    "        spectra = [spectrumPreprocessor(sample.getSpectrum(i)) for i in range(sample.getLength())]\n",
    "        return ML.Sample(params=sample.params, spectra=spectra)\n",
    "    else:\n",
    "        return spectrumPreprocessor(sample)"
   ]
  },
  {
   "cell_type": "markdown",
   "metadata": {},
   "source": [
    "##  Start adaptive sampling"
   ]
  },
  {
   "cell_type": "code",
   "execution_count": null,
   "metadata": {},
   "outputs": [],
   "source": [
    "sampleAdaptively(paramRanges={'shift1': [-0.1, 0.1], 'shift2': [-0.1, 0.1]},\n",
    "     spectralProgram={'generateInput':generateInput, 'parseOneFolder':parseOneFolder, 'createDataframes':createDataframes}, \n",
    "     samplePreprocessor=samplePreprocessor, workingFolder=f'sample_calc', \n",
    "     outputFolder=f'sample_result', debugFolder='sample_debug', \n",
    "     runConfiguration={'runCmd':run}, seed=0)"
   ]
  },
  {
   "cell_type": "code",
   "execution_count": null,
   "metadata": {},
   "outputs": [],
   "source": []
  }
 ],
 "metadata": {
  "kernelspec": {
   "display_name": "Python 3 (ipykernel)",
   "language": "python",
   "name": "python3"
  },
  "language_info": {
   "codemirror_mode": {
    "name": "ipython",
    "version": 3
   },
   "file_extension": ".py",
   "mimetype": "text/x-python",
   "name": "python",
   "nbconvert_exporter": "python",
   "pygments_lexer": "ipython3",
   "version": "3.9.12"
  }
 },
 "nbformat": 4,
 "nbformat_minor": 2
}
