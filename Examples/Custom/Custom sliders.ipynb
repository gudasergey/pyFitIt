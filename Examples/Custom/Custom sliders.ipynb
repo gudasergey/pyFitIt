{
 "cells": [
  {
   "cell_type": "markdown",
   "metadata": {
    "collapsed": true
   },
   "source": [
    "# Custom sliders"
   ]
  },
  {
   "cell_type": "code",
   "execution_count": null,
   "metadata": {},
   "outputs": [],
   "source": [
    "%matplotlib notebook\n",
    "from pyfitit import *\n",
    "initPyfitit()"
   ]
  },
  {
   "cell_type": "markdown",
   "metadata": {},
   "source": [
    "## Read settings and sample"
   ]
  },
  {
   "cell_type": "code",
   "execution_count": null,
   "metadata": {},
   "outputs": [],
   "source": [
    "expSpectrum = readSpectrum('../Feterpy inverse method/exp_excited.txt')\n",
    "sample = readSample('sample_result')"
   ]
  },
  {
   "cell_type": "markdown",
   "metadata": {},
   "source": [
    "## Define function to be optimize by sliders\n",
    "\n",
    "The function not only calculate norm between theory and experiment for given parameters, but also add data to slf.data for plotting and saving"
   ]
  },
  {
   "cell_type": "code",
   "execution_count": null,
   "metadata": {},
   "outputs": [],
   "source": [
    "def xanesPredictorFunc(slf, params):\n",
    "    energyRange = params['energyRange']\n",
    "    slf.data['exp'] = FuncModel.createDataItem('plot', x=expSpectrum.energy, y=expSpectrum.intensity, order=-1, color='black', lw=2)\n",
    "    methodName = params['method']\n",
    "\n",
    "    def getFittedEstimator():\n",
    "        method = inverseMethod.getMethod(methodName)\n",
    "        estimator = ML.Normalize(method, xOnly=False)\n",
    "        estimator.fit(sample.params.to_numpy(), sample.spectra.to_numpy())\n",
    "        return estimator\n",
    "    estimator = slf.cache.getFromCacheOrEval(dataName='estimator', evalFunc=getFittedEstimator, dependData=[methodName])\n",
    "    geomParams = [params[pn] for pn in sample.paramNames]\n",
    "    sp = slf.cache.getFromCacheOrEval(dataName='prediction', evalFunc=lambda: utils.Spectrum(sample.energy, estimator.predict(np.array(geomParams).reshape(1, -1)).reshape(-1)), dependData=[methodName, *geomParams])\n",
    "    shift = params['shift']\n",
    "    smoothed, norm = smoothLib.smoothInterpNorm(smoothParams=params, spectrum=sp, smoothType='fdmnes', expSpectrum=expSpectrum, fitNormInterval=energyRange)\n",
    "    slf.data['not smoothed'] = FuncModel.createDataItem('plot', x=sp.energy + shift, y=sp.intensity / norm)\n",
    "    slf.data['theory'] = FuncModel.createDataItem('plot', x=smoothed.energy, y=smoothed.intensity, order=1)\n",
    "\n",
    "    def moleculeConstructor(params):\n",
    "        mol = Molecule('../Feterpy inverse method/Fe_terpy.xyz')\n",
    "        mol.atom[1,1] -= params['shift1']\n",
    "        mol.atom[30,1] += params['shift2']\n",
    "        return mol\n",
    "\n",
    "    # add molecule, which is lazy generated (only when we save data)\n",
    "    slf.data['molecule'] = FuncModel.createDataItem('lazy', \n",
    "        generator=lambda: FuncModel.createDataItem('text', str=moleculeConstructor(params).export_xyz_string(), \n",
    "                                                   filePostfix='[label].xyz', plot=False))\n",
    "\n",
    "    def xlim(ax):\n",
    "        ax.set_xlim(energyRange)\n",
    "        plotting.updateYLim(ax)\n",
    "    slf.data['xlim'] = FuncModel.createDataItem('custom', plotter=xlim, save=False, order=1000)\n",
    "    error = utils.rFactorSp(smoothed, expSpectrum, p=1, sub1=True, interval=energyRange)\n",
    "    slf.data['error'] = FuncModel.createDataItem('text', str='err = %.3g' % error, order=1001)\n",
    "    return error"
   ]
  },
  {
   "cell_type": "markdown",
   "metadata": {},
   "source": [
    "## Define paramProperties class with param bounds (domains) and default values"
   ]
  },
  {
   "cell_type": "code",
   "execution_count": null,
   "metadata": {},
   "outputs": [],
   "source": [
    "paramProperties = ParamProperties()\n",
    "paramProperties['shift1'] = {'type':'float', 'domain':[-0.1, 0.1]}\n",
    "paramProperties['shift2'] = {'type':'float', 'domain':[-0.1, 0.1]}\n",
    "paramProperties['Gamma_hole'] = {'type':'float', 'domain':[0.1, 10], 'default':4.23}\n",
    "paramProperties['Ecent'] = {'type':'float', 'domain':[5, 100], 'default':53}\n",
    "paramProperties['Elarg'] = {'type':'float', 'domain':[5, 100], 'default':24}\n",
    "paramProperties['Gamma_max'] = {'type':'float', 'domain':[10, 30], 'default':24}\n",
    "paramProperties['Efermi'] = {'type':'float', 'domain':[7000, 7120], 'default':7115}\n",
    "paramProperties['shift'] = {'type':'float', 'domain':[125, 145], 'default':136}\n",
    "paramProperties['norm'] = {'type':'float', 'domain':[0, 0.05], 'default':0.0323}\n",
    "paramProperties['energyRange'] = {'type':'range', 'domain':[expSpectrum.energy[0], expSpectrum.energy[-1]]}\n",
    "paramProperties['method'] = {'type': 'list', 'domain': inverseMethod.allowedMethods, 'default':'RBF'}"
   ]
  },
  {
   "cell_type": "markdown",
   "metadata": {},
   "source": [
    "## Construnct FuncModel class and sliders widget"
   ]
  },
  {
   "cell_type": "code",
   "execution_count": null,
   "metadata": {},
   "outputs": [],
   "source": [
    "funcModel = FuncModel(name='Feterpy XANES fit', function=xanesPredictorFunc, paramProperties=paramProperties)\n",
    "result = FuncModelSliders(funcModel=funcModel, fitType='min', defaultParams={'fit Gamma_hole':False, 'fit Ecent':False, 'fit Elarg':False, \n",
    "                        'fit Gamma_max':False, 'fit Efermi':False, 'fit shift':False, 'fit norm':False})"
   ]
  },
  {
   "cell_type": "code",
   "execution_count": null,
   "metadata": {},
   "outputs": [],
   "source": [
    "result.saveAllData('results/fit_result.txt')"
   ]
  },
  {
   "cell_type": "code",
   "execution_count": null,
   "metadata": {},
   "outputs": [],
   "source": []
  }
 ],
 "metadata": {
  "kernelspec": {
   "display_name": "Python 3 (ipykernel)",
   "language": "python",
   "name": "python3"
  },
  "language_info": {
   "codemirror_mode": {
    "name": "ipython",
    "version": 3
   },
   "file_extension": ".py",
   "mimetype": "text/x-python",
   "name": "python",
   "nbconvert_exporter": "python",
   "pygments_lexer": "ipython3",
   "version": "3.9.7"
  }
 },
 "nbformat": 4,
 "nbformat_minor": 2
}
