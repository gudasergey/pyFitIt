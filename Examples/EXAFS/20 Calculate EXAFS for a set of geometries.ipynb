{
 "cells": [
  {
   "cell_type": "code",
   "execution_count": null,
   "metadata": {},
   "outputs": [],
   "source": [
    "from pyfitit import *\n",
    "project = loadProject('../Feterpy inverse method/FeterpyProject.py')"
   ]
  },
  {
   "cell_type": "markdown",
   "metadata": {},
   "source": [
    "## Building dataset of Feterpy EXAFS\n",
    "\n",
    "Set at first debug=True to select multiple scattering paths and separate path groups if necessary. Then set debug=False to build dataset"
   ]
  },
  {
   "cell_type": "code",
   "execution_count": null,
   "metadata": {
    "scrolled": false
   },
   "outputs": [],
   "source": [
    "# shorten ranges to get good prediction quality\n",
    "newRanges = {'centralRing1_Shift': [0,0.1], 'sideRings1_Shift': [0,0.1], 'sideRings1_Elong': [0,0.1], \n",
    "             'centralRing2_Shift': [0,0.1], 'sideRings2_Shift': [0,0.1], 'sideRings2_Elong': [0,0.1]}\n",
    "\n",
    "# extra params:\n",
    "# separatePathGroups: break apart existed path group [('existedPathGroupName', {'group':'newGroupName', 'paths':[path names]}), ...]\n",
    "# renamePathGroups: dict {'existedPathGroupName': 'newPathGroupName'} to rename path groups\n",
    "# deletePathGroups: list of path group names to delete\n",
    "# sampleSize: if given, run IHS sampling, otherwise - adaptive which trys reach the error<0.01 for full exafs prediction\n",
    "# maxAdaptiveSize: max size of adaptive sampling (default 500)\n",
    "\n",
    "result = sampleExafs(moleculeConstructor=project.moleculeConstructor, paramRanges=newRanges, \n",
    "               constraints={'Amplitude':15, 'MaxPathLenForShells':1, 'AtomNamesForShells':['Fe','N']},\n",
    "               debug=True, maxAdaptiveSize=100,  workingFolder='generated/FeterpySample')"
   ]
  },
  {
   "cell_type": "code",
   "execution_count": null,
   "metadata": {},
   "outputs": [],
   "source": []
  }
 ],
 "metadata": {
  "kernelspec": {
   "display_name": "Python 3 (ipykernel)",
   "language": "python",
   "name": "python3"
  },
  "language_info": {
   "codemirror_mode": {
    "name": "ipython",
    "version": 3
   },
   "file_extension": ".py",
   "mimetype": "text/x-python",
   "name": "python",
   "nbconvert_exporter": "python",
   "pygments_lexer": "ipython3",
   "version": "3.9.12"
  }
 },
 "nbformat": 4,
 "nbformat_minor": 2
}
