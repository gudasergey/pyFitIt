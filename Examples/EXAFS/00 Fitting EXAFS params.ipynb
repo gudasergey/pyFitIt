{
 "cells": [
  {
   "cell_type": "code",
   "execution_count": null,
   "id": "770d630e",
   "metadata": {},
   "outputs": [],
   "source": [
    "from pyfitit import *\n",
    "%matplotlib notebook"
   ]
  },
  {
   "cell_type": "markdown",
   "id": "3d7486af",
   "metadata": {},
   "source": [
    "## EXAFS param fit\n",
    "\n",
    "Set at first debug=True to select multiple scattering paths and separate path groups if necessary. Then set debug=False to get sliders"
   ]
  },
  {
   "cell_type": "code",
   "execution_count": null,
   "id": "0ee43dfa",
   "metadata": {
    "scrolled": false
   },
   "outputs": [],
   "source": [
    "expSpectrum = readSpectrum(fileName=f'exp/bTiCl3.chik', energyColumn=0, intensityColumn=1)\n",
    "\n",
    "# extra params:\n",
    "# separatePathGroups: break apart existed path group [('existedPathGoupName', {'group':'newGroupName', 'paths':[path names]}), ...]\n",
    "# renamePathGroups: dict {'existedPathGoupName': 'newPathGroupName'} to rename path groups\n",
    "# deletePathGroups: list of path group names to delete\n",
    "\n",
    "result = fitExafsParams('xyz/bTiCl3.xyz', expSpectrum, \n",
    "               constraints={'Amplitude':15, 'MaxPathLenForShells':2},\n",
    "               debug=False,  workingFolder='generated/bTiCl3',\n",
    "               separatePathGroups=[('Ti_Cl', {'group':'left_Cl', 'paths':['Ti.0_Cl.21', 'Ti.0_Cl.13', 'Ti.0_Cl.31']})],\n",
    "               renamePathGroups={'Ti_Cl':'right_Cl'})\n"
   ]
  },
  {
   "cell_type": "code",
   "execution_count": null,
   "id": "e2858fe5",
   "metadata": {},
   "outputs": [],
   "source": [
    "result.saveAllData('results/bTiCl3.txt')"
   ]
  },
  {
   "cell_type": "code",
   "execution_count": null,
   "id": "db200fc1",
   "metadata": {},
   "outputs": [],
   "source": [
    "expSpectrum = readSpectrum(fileName=f'exp/Feterpy_ground.chik', energyColumn=0, intensityColumn=1)\n",
    "result = fitExafsParams('xyz/Feterpy.xyz', expSpectrum, \n",
    "               constraints={'Amplitude':15, 'MaxPathLenForShells':2, 'AtomNamesForShells':['Fe','N','C']},\n",
    "               debug=True,  workingFolder='generated/Feterpy', deletePathGroups=[])"
   ]
  },
  {
   "cell_type": "code",
   "execution_count": null,
   "id": "e9db0222",
   "metadata": {},
   "outputs": [],
   "source": [
    "result.saveAllData('results/Feterpy.txt')"
   ]
  },
  {
   "cell_type": "code",
   "execution_count": null,
   "id": "3c431090",
   "metadata": {},
   "outputs": [],
   "source": [
    "expSpectrum = readSpectrum(fileName=f'exp/TiCl4THF2.chik', energyColumn=0, intensityColumn=1)\n",
    "result = fitExafsParams('xyz/TiCl4THF2.xyz', expSpectrum, \n",
    "               separatePathGroups=[('Ti_Cl', {'group':'Ti_Cl_12', 'paths':['Ti.0_Cl.1', 'Ti.0_Cl.2']})],\n",
    "               renamePathGroups={'Ti_Cl':'Ti_Cl_34'},\n",
    "               constraints={'Amplitude':15, 'MaxPathLenForShells':1, 'AtomNamesForShells':['Ti','Cl','O']},\n",
    "               debug=True,  workingFolder='generated/TiCl4THF2')"
   ]
  },
  {
   "cell_type": "code",
   "execution_count": null,
   "id": "1d08ad6a",
   "metadata": {},
   "outputs": [],
   "source": [
    "result.saveAllData('results/TiCl4THF2.txt')"
   ]
  }
 ],
 "metadata": {
  "kernelspec": {
   "display_name": "Python 3 (ipykernel)",
   "language": "python",
   "name": "python3"
  },
  "language_info": {
   "codemirror_mode": {
    "name": "ipython",
    "version": 3
   },
   "file_extension": ".py",
   "mimetype": "text/x-python",
   "name": "python",
   "nbconvert_exporter": "python",
   "pygments_lexer": "ipython3",
   "version": "3.9.12"
  }
 },
 "nbformat": 4,
 "nbformat_minor": 5
}
