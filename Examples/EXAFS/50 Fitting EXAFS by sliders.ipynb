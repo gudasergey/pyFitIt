{
 "cells": [
  {
   "cell_type": "markdown",
   "metadata": {
    "collapsed": true
   },
   "source": [
    "# Importing experiment data"
   ]
  },
  {
   "cell_type": "code",
   "execution_count": null,
   "metadata": {},
   "outputs": [],
   "source": [
    "%matplotlib notebook\n",
    "from pyfitit import *\n",
    "\n",
    "project = loadProject('../Feterpy inverse method/FeterpyProject.py')\n",
    "expSpectrum = readSpectrum(fileName=f'exp/Feterpy_excited.chik', energyColumn=0, intensityColumn=1)"
   ]
  },
  {
   "cell_type": "markdown",
   "metadata": {},
   "source": [
    "# Fitting EXAFS by sliders"
   ]
  },
  {
   "cell_type": "code",
   "execution_count": null,
   "metadata": {
    "scrolled": false
   },
   "outputs": [],
   "source": [
    "# Extra params:\n",
    "# kPower = 2\n",
    "# multipleS02 = False\n",
    "# RSpaceParams={'kmin':2, 'kmax':10}\n",
    "# exafsParamsFuncArgBounds={'enot':[-10,10], 'S02':[0, 2], 'sigma2':[0.001,0.04]}\n",
    "\n",
    "result = fitExafsByStructureSliders('generated/FeterpySample', expSpectrum, \n",
    "           moleculeConstructor=project.moleculeConstructor,\n",
    "           defaultParams={'enot':-4.7, 'S02':0.6, 'sigma2_Fe_N':0.001})"
   ]
  },
  {
   "cell_type": "markdown",
   "metadata": {},
   "source": [
    "# Save results"
   ]
  },
  {
   "cell_type": "code",
   "execution_count": null,
   "metadata": {},
   "outputs": [],
   "source": [
    "result.saveAllData('results/result of structure sliders fit.txt')"
   ]
  },
  {
   "cell_type": "markdown",
   "metadata": {},
   "source": [
    "# Fitting XANES and EXAFS simultaneously"
   ]
  },
  {
   "cell_type": "code",
   "execution_count": null,
   "metadata": {},
   "outputs": [],
   "source": [
    "result = fitXanesAndExafsSimultaneously(project, xanesSampleFolder='../Feterpy inverse method/IHS_729', \n",
    "            exafsSampleFolder='generated/FeterpySample', exafsSpectrum=expSpectrum,\n",
    "            defaultParams={'enot':-4.7, 'fit enot':False, 'S02':0.6, 'fit S02':False, 'sigma2_Fe_N':0.001, 'fit sigma2_Fe_N':False,\n",
    "                                                  'fit Gamma_hole':False, 'fit Efermi':False, 'fit Ecent':False, 'fit Elarg':False, 'fit Gamma_max':False, \n",
    "                                                  'fit norm':False, 'fit shift':False})"
   ]
  },
  {
   "cell_type": "code",
   "execution_count": null,
   "metadata": {},
   "outputs": [],
   "source": []
  }
 ],
 "metadata": {
  "kernelspec": {
   "display_name": "Python 3 (ipykernel)",
   "language": "python",
   "name": "python3"
  },
  "language_info": {
   "codemirror_mode": {
    "name": "ipython",
    "version": 3
   },
   "file_extension": ".py",
   "mimetype": "text/x-python",
   "name": "python",
   "nbconvert_exporter": "python",
   "pygments_lexer": "ipython3",
   "version": "3.9.12"
  }
 },
 "nbformat": 4,
 "nbformat_minor": 2
}
